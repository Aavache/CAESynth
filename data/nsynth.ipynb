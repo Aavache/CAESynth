{
 "cells": [
  {
   "cell_type": "markdown",
   "metadata": {},
   "source": [
    "# Nsynth dataset"
   ]
  },
  {
   "cell_type": "markdown",
   "metadata": {},
   "source": [
    "Reference: https://magenta.tensorflow.org/datasets/nsynth#format"
   ]
  },
  {
   "cell_type": "markdown",
   "metadata": {},
   "source": [
    "### Parsing the JSON metafiles to a DataFrame"
   ]
  },
  {
   "cell_type": "code",
   "execution_count": 2,
   "metadata": {},
   "outputs": [],
   "source": [
    "import pandas as pd\n",
    "import numpy as np\n",
    "import librosa\n",
    "import os\n",
    "import json\n",
    "import copy\n",
    "\n",
    "import matplotlib.pyplot as plt\n",
    "%matplotlib inline"
   ]
  },
  {
   "cell_type": "code",
   "execution_count": 3,
   "metadata": {},
   "outputs": [],
   "source": [
    "# Creating path variables\n",
    "TRAIN_PATH = \"./nsynth/nsynth-train\" \n",
    "TEST_PATH = \"./nsynth/nsynth-test\" \n",
    "VALID_PATH = \"./nsynth/nsynth-val\" "
   ]
  },
  {
   "cell_type": "markdown",
   "metadata": {},
   "source": [
    "## Function Utils"
   ]
  },
  {
   "cell_type": "code",
   "execution_count": 4,
   "metadata": {},
   "outputs": [],
   "source": [
    "# Exporting\n",
    "def to_json(df, file_name='example.json'):\n",
    "    df = df.set_index('file')\n",
    "    df.index.name = None\n",
    "    df.to_json(file_name, orient=\"index\")\n",
    "\n",
    "# Importing\n",
    "def read_json(datapath):\n",
    "    df = pd.read_json(datapath, orient='index')\n",
    "    df['file'] = df.index\n",
    "    df.reset_index(drop=True, inplace=True)\n",
    "    return df"
   ]
  },
  {
   "cell_type": "code",
   "execution_count": 18,
   "metadata": {},
   "outputs": [
    {
     "name": "stdout",
     "output_type": "stream",
     "text": [
      "[ 50 127  75 100  25]\n"
     ]
    }
   ],
   "source": [
    "df_intru = df_train[df_train['instrument'] == 39]\n",
    "print(df_intru['velocity'].unique())"
   ]
  },
  {
   "cell_type": "code",
   "execution_count": 3,
   "metadata": {},
   "outputs": [],
   "source": [
    "df_train = read_json(os.path.join(TRAIN_PATH, \"examples.json\"))\n",
    "df_train['stage'] = 'train'\n",
    "\n",
    "df_test = read_json(os.path.join(TRAIN_PATH, \"examples.json\"))\n",
    "df_test['stage'] = 'test'\n",
    "\n",
    "df_valid = read_json(os.path.join(VALID_PATH, \"examples.json\"))\n",
    "df_valid['stage'] = 'val'\n",
    "\n",
    "print(df_train.shape)\n",
    "print(df_test.shape)\n",
    "print(df_valid.shape)"
   ]
  },
  {
   "cell_type": "code",
   "execution_count": 6,
   "metadata": {},
   "outputs": [
    {
     "data": {
      "text/plain": [
       "<matplotlib.axes._subplots.AxesSubplot at 0x7f97a25a24d0>"
      ]
     },
     "execution_count": 6,
     "metadata": {},
     "output_type": "execute_result"
    },
    {
     "data": {
      "image/png": "[encoded data removed]",
      "text/plain": [
       "<Figure size 432x288 with 1 Axes>"
      ]
     },
     "metadata": {
      "needs_background": "light"
     },
     "output_type": "display_data"
    }
   ],
   "source": [
    "df_train = df_train[(df_train['pitch'] < 84)& ( df_train['pitch'] > 24)]\n",
    "df_train['pitch'].hist()"
   ]
  },
  {
   "cell_type": "markdown",
   "metadata": {},
   "source": [
    "Write file names into a separated txt file."
   ]
  },
  {
   "cell_type": "code",
   "execution_count": 9,
   "metadata": {},
   "outputs": [],
   "source": [
    "path = \"./data/nsynth/train/audio/\"\n",
    "with open(\"training_files.txt\", 'w') as f:\n",
    "    for file in list(df_train['file']):\n",
    "        f.write(path + file + \".wav\" + \"\\n\")"
   ]
  },
  {
   "cell_type": "code",
   "execution_count": 7,
   "metadata": {},
   "outputs": [
    {
     "ename": "NameError",
     "evalue": "name 'df_train' is not defined",
     "output_type": "error",
     "traceback": [
      "\u001b[0;31m---------------------------------------------------------------------------\u001b[0m",
      "\u001b[0;31mNameError\u001b[0m                                 Traceback (most recent call last)",
      "\u001b[0;32m<ipython-input-7-9949772a8538>\u001b[0m in \u001b[0;36m<module>\u001b[0;34m\u001b[0m\n\u001b[0;32m----> 1\u001b[0;31m \u001b[0mdf\u001b[0m \u001b[0;34m=\u001b[0m \u001b[0mpd\u001b[0m\u001b[0;34m.\u001b[0m\u001b[0mconcat\u001b[0m\u001b[0;34m(\u001b[0m\u001b[0;34m[\u001b[0m\u001b[0mdf_train\u001b[0m \u001b[0;34m,\u001b[0m\u001b[0mdf_test\u001b[0m\u001b[0;34m,\u001b[0m \u001b[0mdf_valid\u001b[0m\u001b[0;34m]\u001b[0m\u001b[0;34m)\u001b[0m\u001b[0;34m\u001b[0m\u001b[0;34m\u001b[0m\u001b[0m\n\u001b[0m\u001b[1;32m      2\u001b[0m \u001b[0;32massert\u001b[0m \u001b[0mlen\u001b[0m\u001b[0;34m(\u001b[0m\u001b[0mdf\u001b[0m\u001b[0;34m)\u001b[0m \u001b[0;34m==\u001b[0m \u001b[0mlen\u001b[0m\u001b[0;34m(\u001b[0m\u001b[0mdf_train\u001b[0m\u001b[0;34m)\u001b[0m \u001b[0;34m+\u001b[0m \u001b[0mlen\u001b[0m\u001b[0;34m(\u001b[0m\u001b[0mdf_test\u001b[0m\u001b[0;34m)\u001b[0m \u001b[0;34m+\u001b[0m \u001b[0mlen\u001b[0m\u001b[0;34m(\u001b[0m\u001b[0mdf_valid\u001b[0m\u001b[0;34m)\u001b[0m\u001b[0;34m\u001b[0m\u001b[0;34m\u001b[0m\u001b[0m\n",
      "\u001b[0;31mNameError\u001b[0m: name 'df_train' is not defined"
     ]
    }
   ],
   "source": [
    "df = pd.concat([df_train ,df_test, df_valid])\n",
    "assert len(df) == len(df_train) + len(df_test) + len(df_valid)"
   ]
  },
  {
   "cell_type": "code",
   "execution_count": null,
   "metadata": {},
   "outputs": [],
   "source": [
    "df.to_csv(\"examples.csv\", index=False)"
   ]
  },
  {
   "cell_type": "markdown",
   "metadata": {},
   "source": [
    "# GANSynth"
   ]
  },
  {
   "cell_type": "code",
   "execution_count": null,
   "metadata": {},
   "outputs": [],
   "source": [
    "df_train['instrument_family_str'].unique()"
   ]
  },
  {
   "cell_type": "code",
   "execution_count": null,
   "metadata": {},
   "outputs": [],
   "source": [
    "instr = ['mallet','string','brass','reed', 'flute']\n",
    "gan_synth_df = df_train[df_train['instrument_family_str'].isin(instr)]"
   ]
  },
  {
   "cell_type": "code",
   "execution_count": 35,
   "metadata": {},
   "outputs": [
    {
     "data": {
      "text/plain": [
       "352"
      ]
     },
     "execution_count": 35,
     "metadata": {},
     "output_type": "execute_result"
    }
   ],
   "source": [
    "len(gan_synth_df['instrument'].unique())"
   ]
  },
  {
   "cell_type": "markdown",
   "metadata": {},
   "source": [
    "# Splitting trainset into a new validation and trainset partition \n",
    "\n",
    "The validation and test sets does not overlap with the same instruments in the training set, therefore we split the trainingset so that the new validation partition contains the same pitch and instruments labels."
   ]
  },
  {
   "cell_type": "code",
   "execution_count": 52,
   "metadata": {},
   "outputs": [
    {
     "data": {
      "text/html": [
       "<div>\n",
       "<style scoped>\n",
       "    .dataframe tbody tr th:only-of-type {\n",
       "        vertical-align: middle;\n",
       "    }\n",
       "\n",
       "    .dataframe tbody tr th {\n",
       "        vertical-align: top;\n",
       "    }\n",
       "\n",
       "    .dataframe thead th {\n",
       "        text-align: right;\n",
       "    }\n",
       "</style>\n",
       "<table border=\"1\" class=\"dataframe\">\n",
       "  <thead>\n",
       "    <tr style=\"text-align: right;\">\n",
       "      <th></th>\n",
       "      <th>note</th>\n",
       "      <th>sample_rate</th>\n",
       "      <th>pitch</th>\n",
       "      <th>instrument_source</th>\n",
       "      <th>instrument_family_str</th>\n",
       "      <th>instrument_str</th>\n",
       "      <th>note_str</th>\n",
       "      <th>qualities_str</th>\n",
       "      <th>instrument_source_str</th>\n",
       "      <th>velocity</th>\n",
       "      <th>instrument_family</th>\n",
       "      <th>instrument</th>\n",
       "      <th>qualities</th>\n",
       "      <th>file</th>\n",
       "    </tr>\n",
       "  </thead>\n",
       "  <tbody>\n",
       "  </tbody>\n",
       "</table>\n",
       "</div>"
      ],
      "text/plain": [
       "Empty DataFrame\n",
       "Columns: [note, sample_rate, pitch, instrument_source, instrument_family_str, instrument_str, note_str, qualities_str, instrument_source_str, velocity, instrument_family, instrument, qualities, file]\n",
       "Index: []"
      ]
     },
     "execution_count": 52,
     "metadata": {},
     "output_type": "execute_result"
    }
   ],
   "source": [
    "new_eval_df = pd.DataFrame(columns=df_train.columns)\n",
    "new_eval_df.head()"
   ]
  },
  {
   "cell_type": "code",
   "execution_count": 53,
   "metadata": {},
   "outputs": [
    {
     "name": "stdout",
     "output_type": "stream",
     "text": [
      "(9530, 14)\n"
     ]
    }
   ],
   "source": [
    "instr_sample_size = 10\n",
    "for instr_id in sorted(df_train['instrument'].unique()):\n",
    "    sample_df = df_train[df_train['instrument'] == instr_id].sample(n=instr_sample_size, random_state=1)\n",
    "    new_eval_df = pd.concat([new_eval_df, sample_df], axis=0)\n",
    "print(new_eval_df.shape)"
   ]
  },
  {
   "cell_type": "code",
   "execution_count": 54,
   "metadata": {},
   "outputs": [
    {
     "data": {
      "text/plain": [
       "<matplotlib.axes._subplots.AxesSubplot at 0x7eff8969ea10>"
      ]
     },
     "execution_count": 54,
     "metadata": {},
     "output_type": "execute_result"
    },
    {
     "data": {
      "image/png": "[encoded data removed]",
      "text/plain": [
       "<Figure size 432x288 with 1 Axes>"
      ]
     },
     "metadata": {
      "needs_background": "light"
     },
     "output_type": "display_data"
    }
   ],
   "source": [
    "new_eval_df['instrument'].hist(bins=1000)"
   ]
  },
  {
   "cell_type": "code",
   "execution_count": 55,
   "metadata": {},
   "outputs": [],
   "source": [
    "new_train_df = df_train.copy()"
   ]
  },
  {
   "cell_type": "code",
   "execution_count": 56,
   "metadata": {},
   "outputs": [
    {
     "name": "stdout",
     "output_type": "stream",
     "text": [
      "(279675, 14)\n"
     ]
    }
   ],
   "source": [
    "new_train_df = pd.concat([new_train_df, new_eval_df], axis = 0)\n",
    "new_train_df.drop_duplicates(subset='file', keep=False, inplace=True)\n",
    "print(new_train_df.shape)"
   ]
  },
  {
   "cell_type": "code",
   "execution_count": 57,
   "metadata": {},
   "outputs": [],
   "source": [
    "to_json(new_train_df, \"new_train_example.json\")\n",
    "to_json(new_eval_df, \"new_eval_example.json\")"
   ]
  },
  {
   "cell_type": "code",
   "execution_count": 58,
   "metadata": {},
   "outputs": [
    {
     "data": {
      "text/html": [
       "<div>\n",
       "<style scoped>\n",
       "    .dataframe tbody tr th:only-of-type {\n",
       "        vertical-align: middle;\n",
       "    }\n",
       "\n",
       "    .dataframe tbody tr th {\n",
       "        vertical-align: top;\n",
       "    }\n",
       "\n",
       "    .dataframe thead th {\n",
       "        text-align: right;\n",
       "    }\n",
       "</style>\n",
       "<table border=\"1\" class=\"dataframe\">\n",
       "  <thead>\n",
       "    <tr style=\"text-align: right;\">\n",
       "      <th></th>\n",
       "      <th>note</th>\n",
       "      <th>sample_rate</th>\n",
       "      <th>pitch</th>\n",
       "      <th>instrument_source</th>\n",
       "      <th>instrument_family_str</th>\n",
       "      <th>instrument_str</th>\n",
       "      <th>note_str</th>\n",
       "      <th>qualities_str</th>\n",
       "      <th>instrument_source_str</th>\n",
       "      <th>velocity</th>\n",
       "      <th>instrument_family</th>\n",
       "      <th>instrument</th>\n",
       "      <th>qualities</th>\n",
       "      <th>file</th>\n",
       "    </tr>\n",
       "  </thead>\n",
       "  <tbody>\n",
       "    <tr>\n",
       "      <th>0</th>\n",
       "      <td>16629</td>\n",
       "      <td>16000</td>\n",
       "      <td>82</td>\n",
       "      <td>0</td>\n",
       "      <td>guitar</td>\n",
       "      <td>guitar_acoustic_001</td>\n",
       "      <td>guitar_acoustic_001-082-050</td>\n",
       "      <td>[percussive]</td>\n",
       "      <td>acoustic</td>\n",
       "      <td>50</td>\n",
       "      <td>3</td>\n",
       "      <td>39</td>\n",
       "      <td>[0, 0, 0, 0, 0, 0, 0, 1, 0, 0]</td>\n",
       "      <td>guitar_acoustic_001-082-050</td>\n",
       "    </tr>\n",
       "    <tr>\n",
       "      <th>1</th>\n",
       "      <td>168243</td>\n",
       "      <td>16000</td>\n",
       "      <td>108</td>\n",
       "      <td>2</td>\n",
       "      <td>bass</td>\n",
       "      <td>bass_synthetic_120</td>\n",
       "      <td>bass_synthetic_120-108-050</td>\n",
       "      <td>[percussive]</td>\n",
       "      <td>synthetic</td>\n",
       "      <td>50</td>\n",
       "      <td>0</td>\n",
       "      <td>881</td>\n",
       "      <td>[0, 0, 0, 0, 0, 0, 0, 1, 0, 0]</td>\n",
       "      <td>bass_synthetic_120-108-050</td>\n",
       "    </tr>\n",
       "    <tr>\n",
       "      <th>2</th>\n",
       "      <td>88495</td>\n",
       "      <td>16000</td>\n",
       "      <td>50</td>\n",
       "      <td>1</td>\n",
       "      <td>organ</td>\n",
       "      <td>organ_electronic_120</td>\n",
       "      <td>organ_electronic_120-050-127</td>\n",
       "      <td>[]</td>\n",
       "      <td>electronic</td>\n",
       "      <td>127</td>\n",
       "      <td>6</td>\n",
       "      <td>979</td>\n",
       "      <td>[0, 0, 0, 0, 0, 0, 0, 0, 0, 0]</td>\n",
       "      <td>organ_electronic_120-050-127</td>\n",
       "    </tr>\n",
       "    <tr>\n",
       "      <th>3</th>\n",
       "      <td>146382</td>\n",
       "      <td>16000</td>\n",
       "      <td>26</td>\n",
       "      <td>1</td>\n",
       "      <td>guitar</td>\n",
       "      <td>guitar_electronic_021</td>\n",
       "      <td>guitar_electronic_021-026-025</td>\n",
       "      <td>[fast_decay, percussive]</td>\n",
       "      <td>electronic</td>\n",
       "      <td>25</td>\n",
       "      <td>3</td>\n",
       "      <td>346</td>\n",
       "      <td>[0, 0, 0, 1, 0, 0, 0, 1, 0, 0]</td>\n",
       "      <td>guitar_electronic_021-026-025</td>\n",
       "    </tr>\n",
       "    <tr>\n",
       "      <th>4</th>\n",
       "      <td>244275</td>\n",
       "      <td>16000</td>\n",
       "      <td>79</td>\n",
       "      <td>1</td>\n",
       "      <td>organ</td>\n",
       "      <td>organ_electronic_011</td>\n",
       "      <td>organ_electronic_011-079-075</td>\n",
       "      <td>[bright]</td>\n",
       "      <td>electronic</td>\n",
       "      <td>75</td>\n",
       "      <td>6</td>\n",
       "      <td>188</td>\n",
       "      <td>[1, 0, 0, 0, 0, 0, 0, 0, 0, 0]</td>\n",
       "      <td>organ_electronic_011-079-075</td>\n",
       "    </tr>\n",
       "  </tbody>\n",
       "</table>\n",
       "</div>"
      ],
      "text/plain": [
       "     note  sample_rate  pitch  instrument_source instrument_family_str  \\\n",
       "0   16629        16000     82                  0                guitar   \n",
       "1  168243        16000    108                  2                  bass   \n",
       "2   88495        16000     50                  1                 organ   \n",
       "3  146382        16000     26                  1                guitar   \n",
       "4  244275        16000     79                  1                 organ   \n",
       "\n",
       "          instrument_str                       note_str  \\\n",
       "0    guitar_acoustic_001    guitar_acoustic_001-082-050   \n",
       "1     bass_synthetic_120     bass_synthetic_120-108-050   \n",
       "2   organ_electronic_120   organ_electronic_120-050-127   \n",
       "3  guitar_electronic_021  guitar_electronic_021-026-025   \n",
       "4   organ_electronic_011   organ_electronic_011-079-075   \n",
       "\n",
       "              qualities_str instrument_source_str  velocity  \\\n",
       "0              [percussive]              acoustic        50   \n",
       "1              [percussive]             synthetic        50   \n",
       "2                        []            electronic       127   \n",
       "3  [fast_decay, percussive]            electronic        25   \n",
       "4                  [bright]            electronic        75   \n",
       "\n",
       "   instrument_family  instrument                       qualities  \\\n",
       "0                  3          39  [0, 0, 0, 0, 0, 0, 0, 1, 0, 0]   \n",
       "1                  0         881  [0, 0, 0, 0, 0, 0, 0, 1, 0, 0]   \n",
       "2                  6         979  [0, 0, 0, 0, 0, 0, 0, 0, 0, 0]   \n",
       "3                  3         346  [0, 0, 0, 1, 0, 0, 0, 1, 0, 0]   \n",
       "4                  6         188  [1, 0, 0, 0, 0, 0, 0, 0, 0, 0]   \n",
       "\n",
       "                            file  \n",
       "0    guitar_acoustic_001-082-050  \n",
       "1     bass_synthetic_120-108-050  \n",
       "2   organ_electronic_120-050-127  \n",
       "3  guitar_electronic_021-026-025  \n",
       "4   organ_electronic_011-079-075  "
      ]
     },
     "execution_count": 58,
     "metadata": {},
     "output_type": "execute_result"
    }
   ],
   "source": [
    "# Loading json to DF\n",
    "new_train_df = pd.read_json('new_train_example.json', orient='index')\n",
    "new_train_df['file'] = new_train_df.index\n",
    "new_train_df.reset_index(drop=True, inplace=True)\n",
    "\n",
    "new_train_df.head()"
   ]
  },
  {
   "cell_type": "code",
   "execution_count": 40,
   "metadata": {},
   "outputs": [
    {
     "name": "stdout",
     "output_type": "stream",
     "text": [
      "New train Df (66067, 14)\n",
      "New eval Df: (2801, 14)\n"
     ]
    }
   ],
   "source": [
    "# Filter instrument families and pitch\n",
    "new_train_df = new_train_df[new_train_df['instrument_family_str'].isin(inst_list)]\n",
    "new_train_df = new_train_df[(new_train_df['pitch'] < 84) & ( new_train_df['pitch'] > 24)]\n",
    "print(\"New train df {}\".format(new_train_df.shape))\n",
    "\n",
    "new_eval_df = new_eval_df[new_eval_df['instrument_family_str'].isin(inst_list)]\n",
    "new_eval_df = new_eval_df[(new_eval_df['pitch'] < 84) & ( new_eval_df['pitch'] > 24)]\n",
    "print(\"New eval df: {}\".format(new_eval_df.shape))"
   ]
  },
  {
   "cell_type": "code",
   "execution_count": 5,
   "metadata": {},
   "outputs": [
    {
     "name": "stdout",
     "output_type": "stream",
     "text": [
      "(9530, 14)\n",
      "(9530, 14)\n"
     ]
    }
   ],
   "source": [
    "df_train = pd.read_json(os.path.join(TRAIN_PATH, \"new_eval_example.json\"), orient='index')\n",
    "df_train['file'] = df_train.index\n",
    "df_train.reset_index(drop=True, inplace=True)\n",
    "\n",
    "print(df_train.shape)\n",
    "df_train.drop_duplicates('file')\n",
    "print(df_train.shape)"
   ]
  },
  {
   "cell_type": "markdown",
   "metadata": {},
   "source": [
    "# New Data Split\n",
    "\n",
    "In this training/validation we consider all data in train-valid-test datasets to expand the number of instrument families."
   ]
  },
  {
   "cell_type": "code",
   "execution_count": 5,
   "metadata": {},
   "outputs": [
    {
     "name": "stdout",
     "output_type": "stream",
     "text": [
      "(305979, 15)\n"
     ]
    },
    {
     "data": {
      "text/html": [
       "<div>\n",
       "<style scoped>\n",
       "    .dataframe tbody tr th:only-of-type {\n",
       "        vertical-align: middle;\n",
       "    }\n",
       "\n",
       "    .dataframe tbody tr th {\n",
       "        vertical-align: top;\n",
       "    }\n",
       "\n",
       "    .dataframe thead th {\n",
       "        text-align: right;\n",
       "    }\n",
       "</style>\n",
       "<table border=\"1\" class=\"dataframe\">\n",
       "  <thead>\n",
       "    <tr style=\"text-align: right;\">\n",
       "      <th></th>\n",
       "      <th>note</th>\n",
       "      <th>sample_rate</th>\n",
       "      <th>pitch</th>\n",
       "      <th>instrument_source</th>\n",
       "      <th>instrument_family_str</th>\n",
       "      <th>instrument_str</th>\n",
       "      <th>note_str</th>\n",
       "      <th>qualities_str</th>\n",
       "      <th>instrument_source_str</th>\n",
       "      <th>velocity</th>\n",
       "      <th>instrument_family</th>\n",
       "      <th>instrument</th>\n",
       "      <th>qualities</th>\n",
       "      <th>file</th>\n",
       "      <th>stage</th>\n",
       "    </tr>\n",
       "  </thead>\n",
       "  <tbody>\n",
       "    <tr>\n",
       "      <th>0</th>\n",
       "      <td>16629</td>\n",
       "      <td>16000</td>\n",
       "      <td>82</td>\n",
       "      <td>0</td>\n",
       "      <td>guitar</td>\n",
       "      <td>guitar_acoustic_001</td>\n",
       "      <td>guitar_acoustic_001-082-050</td>\n",
       "      <td>[percussive]</td>\n",
       "      <td>acoustic</td>\n",
       "      <td>50</td>\n",
       "      <td>3</td>\n",
       "      <td>39</td>\n",
       "      <td>[0, 0, 0, 0, 0, 0, 0, 1, 0, 0]</td>\n",
       "      <td>guitar_acoustic_001-082-050</td>\n",
       "      <td>train</td>\n",
       "    </tr>\n",
       "    <tr>\n",
       "      <th>1</th>\n",
       "      <td>168243</td>\n",
       "      <td>16000</td>\n",
       "      <td>108</td>\n",
       "      <td>2</td>\n",
       "      <td>bass</td>\n",
       "      <td>bass_synthetic_120</td>\n",
       "      <td>bass_synthetic_120-108-050</td>\n",
       "      <td>[percussive]</td>\n",
       "      <td>synthetic</td>\n",
       "      <td>50</td>\n",
       "      <td>0</td>\n",
       "      <td>881</td>\n",
       "      <td>[0, 0, 0, 0, 0, 0, 0, 1, 0, 0]</td>\n",
       "      <td>bass_synthetic_120-108-050</td>\n",
       "      <td>train</td>\n",
       "    </tr>\n",
       "    <tr>\n",
       "      <th>2</th>\n",
       "      <td>88495</td>\n",
       "      <td>16000</td>\n",
       "      <td>50</td>\n",
       "      <td>1</td>\n",
       "      <td>organ</td>\n",
       "      <td>organ_electronic_120</td>\n",
       "      <td>organ_electronic_120-050-127</td>\n",
       "      <td>[]</td>\n",
       "      <td>electronic</td>\n",
       "      <td>127</td>\n",
       "      <td>6</td>\n",
       "      <td>979</td>\n",
       "      <td>[0, 0, 0, 0, 0, 0, 0, 0, 0, 0]</td>\n",
       "      <td>organ_electronic_120-050-127</td>\n",
       "      <td>train</td>\n",
       "    </tr>\n",
       "    <tr>\n",
       "      <th>3</th>\n",
       "      <td>146382</td>\n",
       "      <td>16000</td>\n",
       "      <td>26</td>\n",
       "      <td>1</td>\n",
       "      <td>guitar</td>\n",
       "      <td>guitar_electronic_021</td>\n",
       "      <td>guitar_electronic_021-026-025</td>\n",
       "      <td>[fast_decay, percussive]</td>\n",
       "      <td>electronic</td>\n",
       "      <td>25</td>\n",
       "      <td>3</td>\n",
       "      <td>346</td>\n",
       "      <td>[0, 0, 0, 1, 0, 0, 0, 1, 0, 0]</td>\n",
       "      <td>guitar_electronic_021-026-025</td>\n",
       "      <td>train</td>\n",
       "    </tr>\n",
       "    <tr>\n",
       "      <th>4</th>\n",
       "      <td>244275</td>\n",
       "      <td>16000</td>\n",
       "      <td>79</td>\n",
       "      <td>1</td>\n",
       "      <td>organ</td>\n",
       "      <td>organ_electronic_011</td>\n",
       "      <td>organ_electronic_011-079-075</td>\n",
       "      <td>[bright]</td>\n",
       "      <td>electronic</td>\n",
       "      <td>75</td>\n",
       "      <td>6</td>\n",
       "      <td>188</td>\n",
       "      <td>[1, 0, 0, 0, 0, 0, 0, 0, 0, 0]</td>\n",
       "      <td>organ_electronic_011-079-075</td>\n",
       "      <td>train</td>\n",
       "    </tr>\n",
       "  </tbody>\n",
       "</table>\n",
       "</div>"
      ],
      "text/plain": [
       "     note  sample_rate  pitch  instrument_source instrument_family_str  \\\n",
       "0   16629        16000     82                  0                guitar   \n",
       "1  168243        16000    108                  2                  bass   \n",
       "2   88495        16000     50                  1                 organ   \n",
       "3  146382        16000     26                  1                guitar   \n",
       "4  244275        16000     79                  1                 organ   \n",
       "\n",
       "          instrument_str                       note_str  \\\n",
       "0    guitar_acoustic_001    guitar_acoustic_001-082-050   \n",
       "1     bass_synthetic_120     bass_synthetic_120-108-050   \n",
       "2   organ_electronic_120   organ_electronic_120-050-127   \n",
       "3  guitar_electronic_021  guitar_electronic_021-026-025   \n",
       "4   organ_electronic_011   organ_electronic_011-079-075   \n",
       "\n",
       "              qualities_str instrument_source_str  velocity  \\\n",
       "0              [percussive]              acoustic        50   \n",
       "1              [percussive]             synthetic        50   \n",
       "2                        []            electronic       127   \n",
       "3  [fast_decay, percussive]            electronic        25   \n",
       "4                  [bright]            electronic        75   \n",
       "\n",
       "   instrument_family  instrument                       qualities  \\\n",
       "0                  3          39  [0, 0, 0, 0, 0, 0, 0, 1, 0, 0]   \n",
       "1                  0         881  [0, 0, 0, 0, 0, 0, 0, 1, 0, 0]   \n",
       "2                  6         979  [0, 0, 0, 0, 0, 0, 0, 0, 0, 0]   \n",
       "3                  3         346  [0, 0, 0, 1, 0, 0, 0, 1, 0, 0]   \n",
       "4                  6         188  [1, 0, 0, 0, 0, 0, 0, 0, 0, 0]   \n",
       "\n",
       "                            file  stage  \n",
       "0    guitar_acoustic_001-082-050  train  \n",
       "1     bass_synthetic_120-108-050  train  \n",
       "2   organ_electronic_120-050-127  train  \n",
       "3  guitar_electronic_021-026-025  train  \n",
       "4   organ_electronic_011-079-075  train  "
      ]
     },
     "execution_count": 5,
     "metadata": {},
     "output_type": "execute_result"
    }
   ],
   "source": [
    "df = pd.concat([df_train,df_test,df_valid], axis=0)\n",
    "print(df.shape)\n",
    "df.head()"
   ]
  },
  {
   "cell_type": "markdown",
   "metadata": {},
   "source": [
    "Creating an empty validation dataframe."
   ]
  },
  {
   "cell_type": "code",
   "execution_count": 6,
   "metadata": {},
   "outputs": [
    {
     "data": {
      "text/html": [
       "<div>\n",
       "<style scoped>\n",
       "    .dataframe tbody tr th:only-of-type {\n",
       "        vertical-align: middle;\n",
       "    }\n",
       "\n",
       "    .dataframe tbody tr th {\n",
       "        vertical-align: top;\n",
       "    }\n",
       "\n",
       "    .dataframe thead th {\n",
       "        text-align: right;\n",
       "    }\n",
       "</style>\n",
       "<table border=\"1\" class=\"dataframe\">\n",
       "  <thead>\n",
       "    <tr style=\"text-align: right;\">\n",
       "      <th></th>\n",
       "      <th>note</th>\n",
       "      <th>sample_rate</th>\n",
       "      <th>pitch</th>\n",
       "      <th>instrument_source</th>\n",
       "      <th>instrument_family_str</th>\n",
       "      <th>instrument_str</th>\n",
       "      <th>note_str</th>\n",
       "      <th>qualities_str</th>\n",
       "      <th>instrument_source_str</th>\n",
       "      <th>velocity</th>\n",
       "      <th>instrument_family</th>\n",
       "      <th>instrument</th>\n",
       "      <th>qualities</th>\n",
       "      <th>file</th>\n",
       "      <th>stage</th>\n",
       "    </tr>\n",
       "  </thead>\n",
       "  <tbody>\n",
       "  </tbody>\n",
       "</table>\n",
       "</div>"
      ],
      "text/plain": [
       "Empty DataFrame\n",
       "Columns: [note, sample_rate, pitch, instrument_source, instrument_family_str, instrument_str, note_str, qualities_str, instrument_source_str, velocity, instrument_family, instrument, qualities, file, stage]\n",
       "Index: []"
      ]
     },
     "execution_count": 6,
     "metadata": {},
     "output_type": "execute_result"
    }
   ],
   "source": [
    "new_df_val = pd.DataFrame(columns=df.columns)\n",
    "new_df_val.head()"
   ]
  },
  {
   "cell_type": "code",
   "execution_count": 23,
   "metadata": {
    "scrolled": true
   },
   "outputs": [
    {
     "name": "stdout",
     "output_type": "stream",
     "text": [
      "instrument_family_str  instrument_source_str\n",
      "bass                   acoustic                   200\n",
      "                       electronic                8387\n",
      "                       synthetic                60368\n",
      "brass                  acoustic                 13760\n",
      "                       electronic                  70\n",
      "flute                  acoustic                  6572\n",
      "                       electronic                  35\n",
      "                       synthetic                 2816\n",
      "guitar                 acoustic                 13343\n",
      "                       electronic               16805\n",
      "                       synthetic                 5275\n",
      "keyboard               acoustic                  8508\n",
      "                       electronic               42645\n",
      "                       synthetic                 3838\n",
      "mallet                 acoustic                 27722\n",
      "                       electronic                5581\n",
      "                       synthetic                 1763\n",
      "organ                  acoustic                   176\n",
      "                       electronic               36401\n",
      "reed                   acoustic                 14262\n",
      "                       electronic                  76\n",
      "                       synthetic                  528\n",
      "string                 acoustic                 20510\n",
      "                       electronic                  84\n",
      "synth_lead             synthetic                 5501\n",
      "vocal                  acoustic                  3925\n",
      "                       electronic                 140\n",
      "                       synthetic                 6688\n",
      "dtype: int64\n",
      "(28,)\n"
     ]
    }
   ],
   "source": [
    "grouped_df = df.groupby(['instrument_family_str', 'instrument_source_str']).size()\n",
    "print(grouped_df)\n",
    "print(grouped_df.shape)"
   ]
  },
  {
   "cell_type": "markdown",
   "metadata": {},
   "source": [
    "Generating new column with new timbre class ids composed by instrument source and family."
   ]
  },
  {
   "cell_type": "code",
   "execution_count": 7,
   "metadata": {},
   "outputs": [
    {
     "data": {
      "text/plain": [
       "<matplotlib.axes._subplots.AxesSubplot at 0x7fe9defcb8d0>"
      ]
     },
     "execution_count": 7,
     "metadata": {},
     "output_type": "execute_result"
    },
    {
     "data": {
      "image/png": "[encoded data removed]",
      "text/plain": [
       "<Figure size 432x288 with 1 Axes>"
      ]
     },
     "metadata": {
      "needs_background": "light"
     },
     "output_type": "display_data"
    }
   ],
   "source": [
    "df['family_source_id'] = df['instrument_source']+ df['instrument_family'] * 3 # Generates ids for family source\n",
    "family_source_id = sorted(df['family_source_id'].unique())\n",
    "df['family_source_id'] = df['family_source_id'].apply(lambda x: family_source_id.index(x)) # Removing holes in ids\n",
    "\n",
    "df['family_source_id'].hist(bins=28)"
   ]
  },
  {
   "cell_type": "markdown",
   "metadata": {},
   "source": [
    "Filtering pitch data"
   ]
  },
  {
   "cell_type": "code",
   "execution_count": 8,
   "metadata": {},
   "outputs": [
    {
     "name": "stdout",
     "output_type": "stream",
     "text": [
      "59\n",
      "(230018, 16)\n"
     ]
    },
    {
     "data": {
      "text/plain": [
       "<matplotlib.axes._subplots.AxesSubplot at 0x7fe977eb0390>"
      ]
     },
     "execution_count": 8,
     "metadata": {},
     "output_type": "execute_result"
    },
    {
     "data": {
      "image/png": "[encoded data removed]",
      "text/plain": [
       "<Figure size 432x288 with 1 Axes>"
      ]
     },
     "metadata": {
      "needs_background": "light"
     },
     "output_type": "display_data"
    }
   ],
   "source": [
    "df = df[(df['pitch'] < 84) & ( df['pitch'] > 24)]\n",
    "print(df['pitch'].nunique())\n",
    "print(df.shape)\n",
    "df['pitch'].hist(bins=59)"
   ]
  },
  {
   "cell_type": "markdown",
   "metadata": {},
   "source": [
    "Filling validation set"
   ]
  },
  {
   "cell_type": "code",
   "execution_count": 9,
   "metadata": {},
   "outputs": [
    {
     "name": "stdout",
     "output_type": "stream",
     "text": [
      "(207030, 16)\n",
      "(22988, 16)\n",
      "(230018, 16)\n"
     ]
    }
   ],
   "source": [
    "new_df_train = df.copy()\n",
    "\n",
    "# Filling validation df\n",
    "for timbre_id in sorted(new_df_train['family_source_id'].unique()):\n",
    "    sample_size = int(0.1*len(new_df_train[new_df_train['family_source_id'] == timbre_id])) # sampling is proportional to the sample size per class\n",
    "    sample_df = new_df_train[new_df_train['family_source_id'] == timbre_id].sample(n=sample_size, random_state=1)\n",
    "    new_df_val = pd.concat([new_df_val, sample_df], axis=0) \n",
    "\n",
    "# Removing duplicates between validation and training\n",
    "new_df_train = pd.concat([new_df_train, new_df_val], axis = 0)\n",
    "new_df_train.drop_duplicates(subset='file', keep=False, inplace=True)\n",
    "\n",
    "print(new_df_train.shape)\n",
    "print(new_df_val.shape)\n",
    "print(df.shape)"
   ]
  },
  {
   "cell_type": "code",
   "execution_count": 10,
   "metadata": {},
   "outputs": [
    {
     "data": {
      "text/plain": [
       "<matplotlib.axes._subplots.AxesSubplot at 0x7fe977deb0d0>"
      ]
     },
     "execution_count": 10,
     "metadata": {},
     "output_type": "execute_result"
    },
    {
     "data": {
      "image/png": "[encoded data removed]",
      "text/plain": [
       "<Figure size 432x288 with 1 Axes>"
      ]
     },
     "metadata": {
      "needs_background": "light"
     },
     "output_type": "display_data"
    }
   ],
   "source": [
    "df_train['pitch'].hist(bins=59)"
   ]
  },
  {
   "cell_type": "code",
   "execution_count": 11,
   "metadata": {},
   "outputs": [
    {
     "data": {
      "text/plain": [
       "<matplotlib.axes._subplots.AxesSubplot at 0x7fe977ece810>"
      ]
     },
     "execution_count": 11,
     "metadata": {},
     "output_type": "execute_result"
    },
    {
     "data": {
      "image/png": "[encoded data removed]",
      "text/plain": [
       "<Figure size 432x288 with 1 Axes>"
      ]
     },
     "metadata": {
      "needs_background": "light"
     },
     "output_type": "display_data"
    }
   ],
   "source": [
    "new_df_val['pitch'].hist(bins=59)"
   ]
  },
  {
   "cell_type": "code",
   "execution_count": 12,
   "metadata": {},
   "outputs": [
    {
     "data": {
      "text/plain": [
       "<matplotlib.axes._subplots.AxesSubplot at 0x7fe977dbb810>"
      ]
     },
     "execution_count": 12,
     "metadata": {},
     "output_type": "execute_result"
    },
    {
     "data": {
      "image/png": "[encoded data removed]",
      "text/plain": [
       "<Figure size 432x288 with 1 Axes>"
      ]
     },
     "metadata": {
      "needs_background": "light"
     },
     "output_type": "display_data"
    }
   ],
   "source": [
    "df_train['family_source_id'].hist(bins=28)"
   ]
  },
  {
   "cell_type": "code",
   "execution_count": 13,
   "metadata": {},
   "outputs": [
    {
     "data": {
      "text/plain": [
       "<matplotlib.axes._subplots.AxesSubplot at 0x7fe977d94510>"
      ]
     },
     "execution_count": 13,
     "metadata": {},
     "output_type": "execute_result"
    },
    {
     "data": {
      "image/png": "[encoded data removed]",
      "text/plain": [
       "<Figure size 432x288 with 1 Axes>"
      ]
     },
     "metadata": {
      "needs_background": "light"
     },
     "output_type": "display_data"
    }
   ],
   "source": [
    "new_df_val['family_source_id'].hist(bins=28)"
   ]
  },
  {
   "cell_type": "code",
   "execution_count": 15,
   "metadata": {},
   "outputs": [],
   "source": [
    "to_json(df, \"all_dataset_family_source.json\")\n",
    "to_json(df_train, \"train_family_source.json\")\n",
    "to_json(new_df_val, \"val_family_source.json\")"
   ]
  },
  {
   "cell_type": "code",
   "execution_count": 5,
   "metadata": {},
   "outputs": [
    {
     "name": "stdout",
     "output_type": "stream",
     "text": [
      "(230018, 16)\n",
      "(207030, 16)\n",
      "(22988, 16)\n"
     ]
    },
    {
     "data": {
      "text/html": [
       "<div>\n",
       "<style scoped>\n",
       "    .dataframe tbody tr th:only-of-type {\n",
       "        vertical-align: middle;\n",
       "    }\n",
       "\n",
       "    .dataframe tbody tr th {\n",
       "        vertical-align: top;\n",
       "    }\n",
       "\n",
       "    .dataframe thead th {\n",
       "        text-align: right;\n",
       "    }\n",
       "</style>\n",
       "<table border=\"1\" class=\"dataframe\">\n",
       "  <thead>\n",
       "    <tr style=\"text-align: right;\">\n",
       "      <th></th>\n",
       "      <th>note</th>\n",
       "      <th>sample_rate</th>\n",
       "      <th>pitch</th>\n",
       "      <th>instrument_source</th>\n",
       "      <th>instrument_family_str</th>\n",
       "      <th>instrument_str</th>\n",
       "      <th>note_str</th>\n",
       "      <th>qualities_str</th>\n",
       "      <th>instrument_source_str</th>\n",
       "      <th>velocity</th>\n",
       "      <th>instrument_family</th>\n",
       "      <th>instrument</th>\n",
       "      <th>qualities</th>\n",
       "      <th>stage</th>\n",
       "      <th>family_source_id</th>\n",
       "      <th>file</th>\n",
       "    </tr>\n",
       "  </thead>\n",
       "  <tbody>\n",
       "    <tr>\n",
       "      <th>0</th>\n",
       "      <td>16629</td>\n",
       "      <td>16000</td>\n",
       "      <td>82</td>\n",
       "      <td>0</td>\n",
       "      <td>guitar</td>\n",
       "      <td>guitar_acoustic_001</td>\n",
       "      <td>guitar_acoustic_001-082-050</td>\n",
       "      <td>[percussive]</td>\n",
       "      <td>acoustic</td>\n",
       "      <td>50</td>\n",
       "      <td>3</td>\n",
       "      <td>39</td>\n",
       "      <td>[0, 0, 0, 0, 0, 0, 0, 1, 0, 0]</td>\n",
       "      <td>train</td>\n",
       "      <td>8</td>\n",
       "      <td>guitar_acoustic_001-082-050</td>\n",
       "    </tr>\n",
       "    <tr>\n",
       "      <th>1</th>\n",
       "      <td>88495</td>\n",
       "      <td>16000</td>\n",
       "      <td>50</td>\n",
       "      <td>1</td>\n",
       "      <td>organ</td>\n",
       "      <td>organ_electronic_120</td>\n",
       "      <td>organ_electronic_120-050-127</td>\n",
       "      <td>[]</td>\n",
       "      <td>electronic</td>\n",
       "      <td>127</td>\n",
       "      <td>6</td>\n",
       "      <td>979</td>\n",
       "      <td>[0, 0, 0, 0, 0, 0, 0, 0, 0, 0]</td>\n",
       "      <td>train</td>\n",
       "      <td>18</td>\n",
       "      <td>organ_electronic_120-050-127</td>\n",
       "    </tr>\n",
       "    <tr>\n",
       "      <th>2</th>\n",
       "      <td>146382</td>\n",
       "      <td>16000</td>\n",
       "      <td>26</td>\n",
       "      <td>1</td>\n",
       "      <td>guitar</td>\n",
       "      <td>guitar_electronic_021</td>\n",
       "      <td>guitar_electronic_021-026-025</td>\n",
       "      <td>[fast_decay, percussive]</td>\n",
       "      <td>electronic</td>\n",
       "      <td>25</td>\n",
       "      <td>3</td>\n",
       "      <td>346</td>\n",
       "      <td>[0, 0, 0, 1, 0, 0, 0, 1, 0, 0]</td>\n",
       "      <td>train</td>\n",
       "      <td>9</td>\n",
       "      <td>guitar_electronic_021-026-025</td>\n",
       "    </tr>\n",
       "    <tr>\n",
       "      <th>3</th>\n",
       "      <td>244275</td>\n",
       "      <td>16000</td>\n",
       "      <td>79</td>\n",
       "      <td>1</td>\n",
       "      <td>organ</td>\n",
       "      <td>organ_electronic_011</td>\n",
       "      <td>organ_electronic_011-079-075</td>\n",
       "      <td>[bright]</td>\n",
       "      <td>electronic</td>\n",
       "      <td>75</td>\n",
       "      <td>6</td>\n",
       "      <td>188</td>\n",
       "      <td>[1, 0, 0, 0, 0, 0, 0, 0, 0, 0]</td>\n",
       "      <td>train</td>\n",
       "      <td>18</td>\n",
       "      <td>organ_electronic_011-079-075</td>\n",
       "    </tr>\n",
       "    <tr>\n",
       "      <th>4</th>\n",
       "      <td>282051</td>\n",
       "      <td>16000</td>\n",
       "      <td>44</td>\n",
       "      <td>1</td>\n",
       "      <td>keyboard</td>\n",
       "      <td>keyboard_electronic_089</td>\n",
       "      <td>keyboard_electronic_089-044-100</td>\n",
       "      <td>[]</td>\n",
       "      <td>electronic</td>\n",
       "      <td>100</td>\n",
       "      <td>4</td>\n",
       "      <td>877</td>\n",
       "      <td>[0, 0, 0, 0, 0, 0, 0, 0, 0, 0]</td>\n",
       "      <td>train</td>\n",
       "      <td>12</td>\n",
       "      <td>keyboard_electronic_089-044-100</td>\n",
       "    </tr>\n",
       "  </tbody>\n",
       "</table>\n",
       "</div>"
      ],
      "text/plain": [
       "     note  sample_rate  pitch  instrument_source instrument_family_str  \\\n",
       "0   16629        16000     82                  0                guitar   \n",
       "1   88495        16000     50                  1                 organ   \n",
       "2  146382        16000     26                  1                guitar   \n",
       "3  244275        16000     79                  1                 organ   \n",
       "4  282051        16000     44                  1              keyboard   \n",
       "\n",
       "            instrument_str                         note_str  \\\n",
       "0      guitar_acoustic_001      guitar_acoustic_001-082-050   \n",
       "1     organ_electronic_120     organ_electronic_120-050-127   \n",
       "2    guitar_electronic_021    guitar_electronic_021-026-025   \n",
       "3     organ_electronic_011     organ_electronic_011-079-075   \n",
       "4  keyboard_electronic_089  keyboard_electronic_089-044-100   \n",
       "\n",
       "              qualities_str instrument_source_str  velocity  \\\n",
       "0              [percussive]              acoustic        50   \n",
       "1                        []            electronic       127   \n",
       "2  [fast_decay, percussive]            electronic        25   \n",
       "3                  [bright]            electronic        75   \n",
       "4                        []            electronic       100   \n",
       "\n",
       "   instrument_family  instrument                       qualities  stage  \\\n",
       "0                  3          39  [0, 0, 0, 0, 0, 0, 0, 1, 0, 0]  train   \n",
       "1                  6         979  [0, 0, 0, 0, 0, 0, 0, 0, 0, 0]  train   \n",
       "2                  3         346  [0, 0, 0, 1, 0, 0, 0, 1, 0, 0]  train   \n",
       "3                  6         188  [1, 0, 0, 0, 0, 0, 0, 0, 0, 0]  train   \n",
       "4                  4         877  [0, 0, 0, 0, 0, 0, 0, 0, 0, 0]  train   \n",
       "\n",
       "   family_source_id                             file  \n",
       "0                 8      guitar_acoustic_001-082-050  \n",
       "1                18     organ_electronic_120-050-127  \n",
       "2                 9    guitar_electronic_021-026-025  \n",
       "3                18     organ_electronic_011-079-075  \n",
       "4                12  keyboard_electronic_089-044-100  "
      ]
     },
     "execution_count": 5,
     "metadata": {},
     "output_type": "execute_result"
    }
   ],
   "source": [
    "bla = read_json('./nsynth/all_dataset_family_source.json')\n",
    "bla_train = read_json('./nsynth/train_family_source.json')\n",
    "bla_val = read_json('./nsynth/val_family_source.json')\n",
    "\n",
    "print(bla.shape)\n",
    "print(bla_train.shape)\n",
    "print(bla_val.shape)\n",
    "bla.head()"
   ]
  },
  {
   "cell_type": "code",
   "execution_count": 20,
   "metadata": {},
   "outputs": [
    {
     "data": {
      "text/html": [
       "<div>\n",
       "<style scoped>\n",
       "    .dataframe tbody tr th:only-of-type {\n",
       "        vertical-align: middle;\n",
       "    }\n",
       "\n",
       "    .dataframe tbody tr th {\n",
       "        vertical-align: top;\n",
       "    }\n",
       "\n",
       "    .dataframe thead th {\n",
       "        text-align: right;\n",
       "    }\n",
       "</style>\n",
       "<table border=\"1\" class=\"dataframe\">\n",
       "  <thead>\n",
       "    <tr style=\"text-align: right;\">\n",
       "      <th></th>\n",
       "      <th>note</th>\n",
       "      <th>sample_rate</th>\n",
       "      <th>pitch</th>\n",
       "      <th>instrument_source</th>\n",
       "      <th>instrument_family_str</th>\n",
       "      <th>instrument_str</th>\n",
       "      <th>note_str</th>\n",
       "      <th>qualities_str</th>\n",
       "      <th>instrument_source_str</th>\n",
       "      <th>velocity</th>\n",
       "      <th>instrument_family</th>\n",
       "      <th>instrument</th>\n",
       "      <th>qualities</th>\n",
       "      <th>stage</th>\n",
       "      <th>family_source_id</th>\n",
       "      <th>file</th>\n",
       "    </tr>\n",
       "  </thead>\n",
       "  <tbody>\n",
       "    <tr>\n",
       "      <th>71</th>\n",
       "      <td>69464</td>\n",
       "      <td>16000</td>\n",
       "      <td>75</td>\n",
       "      <td>0</td>\n",
       "      <td>brass</td>\n",
       "      <td>brass_acoustic_003</td>\n",
       "      <td>brass_acoustic_003-075-075</td>\n",
       "      <td>[long_release, reverb]</td>\n",
       "      <td>acoustic</td>\n",
       "      <td>75</td>\n",
       "      <td>1</td>\n",
       "      <td>16</td>\n",
       "      <td>[0, 0, 0, 0, 1, 0, 0, 0, 1, 0]</td>\n",
       "      <td>train</td>\n",
       "      <td>3</td>\n",
       "      <td>brass_acoustic_003-075-075</td>\n",
       "    </tr>\n",
       "    <tr>\n",
       "      <th>3434</th>\n",
       "      <td>34893</td>\n",
       "      <td>16000</td>\n",
       "      <td>73</td>\n",
       "      <td>0</td>\n",
       "      <td>brass</td>\n",
       "      <td>brass_acoustic_003</td>\n",
       "      <td>brass_acoustic_003-073-050</td>\n",
       "      <td>[reverb]</td>\n",
       "      <td>acoustic</td>\n",
       "      <td>50</td>\n",
       "      <td>1</td>\n",
       "      <td>16</td>\n",
       "      <td>[0, 0, 0, 0, 0, 0, 0, 0, 1, 0]</td>\n",
       "      <td>train</td>\n",
       "      <td>3</td>\n",
       "      <td>brass_acoustic_003-073-050</td>\n",
       "    </tr>\n",
       "    <tr>\n",
       "      <th>4135</th>\n",
       "      <td>5723</td>\n",
       "      <td>16000</td>\n",
       "      <td>68</td>\n",
       "      <td>0</td>\n",
       "      <td>brass</td>\n",
       "      <td>brass_acoustic_003</td>\n",
       "      <td>brass_acoustic_003-068-025</td>\n",
       "      <td>[long_release, reverb]</td>\n",
       "      <td>acoustic</td>\n",
       "      <td>25</td>\n",
       "      <td>1</td>\n",
       "      <td>16</td>\n",
       "      <td>[0, 0, 0, 0, 1, 0, 0, 0, 1, 0]</td>\n",
       "      <td>train</td>\n",
       "      <td>3</td>\n",
       "      <td>brass_acoustic_003-068-025</td>\n",
       "    </tr>\n",
       "    <tr>\n",
       "      <th>4261</th>\n",
       "      <td>87521</td>\n",
       "      <td>16000</td>\n",
       "      <td>69</td>\n",
       "      <td>0</td>\n",
       "      <td>brass</td>\n",
       "      <td>brass_acoustic_003</td>\n",
       "      <td>brass_acoustic_003-069-100</td>\n",
       "      <td>[reverb]</td>\n",
       "      <td>acoustic</td>\n",
       "      <td>100</td>\n",
       "      <td>1</td>\n",
       "      <td>16</td>\n",
       "      <td>[0, 0, 0, 0, 0, 0, 0, 0, 1, 0]</td>\n",
       "      <td>train</td>\n",
       "      <td>3</td>\n",
       "      <td>brass_acoustic_003-069-100</td>\n",
       "    </tr>\n",
       "    <tr>\n",
       "      <th>6682</th>\n",
       "      <td>89790</td>\n",
       "      <td>16000</td>\n",
       "      <td>73</td>\n",
       "      <td>0</td>\n",
       "      <td>brass</td>\n",
       "      <td>brass_acoustic_003</td>\n",
       "      <td>brass_acoustic_003-073-075</td>\n",
       "      <td>[long_release, reverb]</td>\n",
       "      <td>acoustic</td>\n",
       "      <td>75</td>\n",
       "      <td>1</td>\n",
       "      <td>16</td>\n",
       "      <td>[0, 0, 0, 0, 1, 0, 0, 0, 1, 0]</td>\n",
       "      <td>train</td>\n",
       "      <td>3</td>\n",
       "      <td>brass_acoustic_003-073-075</td>\n",
       "    </tr>\n",
       "    <tr>\n",
       "      <th>...</th>\n",
       "      <td>...</td>\n",
       "      <td>...</td>\n",
       "      <td>...</td>\n",
       "      <td>...</td>\n",
       "      <td>...</td>\n",
       "      <td>...</td>\n",
       "      <td>...</td>\n",
       "      <td>...</td>\n",
       "      <td>...</td>\n",
       "      <td>...</td>\n",
       "      <td>...</td>\n",
       "      <td>...</td>\n",
       "      <td>...</td>\n",
       "      <td>...</td>\n",
       "      <td>...</td>\n",
       "      <td>...</td>\n",
       "    </tr>\n",
       "    <tr>\n",
       "      <th>210184</th>\n",
       "      <td>72196</td>\n",
       "      <td>16000</td>\n",
       "      <td>74</td>\n",
       "      <td>0</td>\n",
       "      <td>brass</td>\n",
       "      <td>brass_acoustic_003</td>\n",
       "      <td>brass_acoustic_003-074-050</td>\n",
       "      <td>[reverb]</td>\n",
       "      <td>acoustic</td>\n",
       "      <td>50</td>\n",
       "      <td>1</td>\n",
       "      <td>16</td>\n",
       "      <td>[0, 0, 0, 0, 0, 0, 0, 0, 1, 0]</td>\n",
       "      <td>train</td>\n",
       "      <td>3</td>\n",
       "      <td>brass_acoustic_003-074-050</td>\n",
       "    </tr>\n",
       "    <tr>\n",
       "      <th>213283</th>\n",
       "      <td>79106</td>\n",
       "      <td>16000</td>\n",
       "      <td>68</td>\n",
       "      <td>0</td>\n",
       "      <td>brass</td>\n",
       "      <td>brass_acoustic_003</td>\n",
       "      <td>brass_acoustic_003-068-127</td>\n",
       "      <td>[reverb]</td>\n",
       "      <td>acoustic</td>\n",
       "      <td>127</td>\n",
       "      <td>1</td>\n",
       "      <td>16</td>\n",
       "      <td>[0, 0, 0, 0, 0, 0, 0, 0, 1, 0]</td>\n",
       "      <td>train</td>\n",
       "      <td>3</td>\n",
       "      <td>brass_acoustic_003-068-127</td>\n",
       "    </tr>\n",
       "    <tr>\n",
       "      <th>213670</th>\n",
       "      <td>72697</td>\n",
       "      <td>16000</td>\n",
       "      <td>59</td>\n",
       "      <td>0</td>\n",
       "      <td>brass</td>\n",
       "      <td>brass_acoustic_003</td>\n",
       "      <td>brass_acoustic_003-059-050</td>\n",
       "      <td>[dark, long_release, reverb]</td>\n",
       "      <td>acoustic</td>\n",
       "      <td>50</td>\n",
       "      <td>1</td>\n",
       "      <td>16</td>\n",
       "      <td>[0, 1, 0, 0, 1, 0, 0, 0, 1, 0]</td>\n",
       "      <td>train</td>\n",
       "      <td>3</td>\n",
       "      <td>brass_acoustic_003-059-050</td>\n",
       "    </tr>\n",
       "    <tr>\n",
       "      <th>214095</th>\n",
       "      <td>18276</td>\n",
       "      <td>16000</td>\n",
       "      <td>70</td>\n",
       "      <td>0</td>\n",
       "      <td>brass</td>\n",
       "      <td>brass_acoustic_003</td>\n",
       "      <td>brass_acoustic_003-070-100</td>\n",
       "      <td>[long_release, reverb]</td>\n",
       "      <td>acoustic</td>\n",
       "      <td>100</td>\n",
       "      <td>1</td>\n",
       "      <td>16</td>\n",
       "      <td>[0, 0, 0, 0, 1, 0, 0, 0, 1, 0]</td>\n",
       "      <td>train</td>\n",
       "      <td>3</td>\n",
       "      <td>brass_acoustic_003-070-100</td>\n",
       "    </tr>\n",
       "    <tr>\n",
       "      <th>214262</th>\n",
       "      <td>24261</td>\n",
       "      <td>16000</td>\n",
       "      <td>67</td>\n",
       "      <td>0</td>\n",
       "      <td>brass</td>\n",
       "      <td>brass_acoustic_003</td>\n",
       "      <td>brass_acoustic_003-067-100</td>\n",
       "      <td>[long_release, reverb]</td>\n",
       "      <td>acoustic</td>\n",
       "      <td>100</td>\n",
       "      <td>1</td>\n",
       "      <td>16</td>\n",
       "      <td>[0, 0, 0, 0, 1, 0, 0, 0, 1, 0]</td>\n",
       "      <td>train</td>\n",
       "      <td>3</td>\n",
       "      <td>brass_acoustic_003-067-100</td>\n",
       "    </tr>\n",
       "  </tbody>\n",
       "</table>\n",
       "<p>185 rows × 16 columns</p>\n",
       "</div>"
      ],
      "text/plain": [
       "         note  sample_rate  pitch  instrument_source instrument_family_str  \\\n",
       "71      69464        16000     75                  0                 brass   \n",
       "3434    34893        16000     73                  0                 brass   \n",
       "4135     5723        16000     68                  0                 brass   \n",
       "4261    87521        16000     69                  0                 brass   \n",
       "6682    89790        16000     73                  0                 brass   \n",
       "...       ...          ...    ...                ...                   ...   \n",
       "210184  72196        16000     74                  0                 brass   \n",
       "213283  79106        16000     68                  0                 brass   \n",
       "213670  72697        16000     59                  0                 brass   \n",
       "214095  18276        16000     70                  0                 brass   \n",
       "214262  24261        16000     67                  0                 brass   \n",
       "\n",
       "            instrument_str                    note_str  \\\n",
       "71      brass_acoustic_003  brass_acoustic_003-075-075   \n",
       "3434    brass_acoustic_003  brass_acoustic_003-073-050   \n",
       "4135    brass_acoustic_003  brass_acoustic_003-068-025   \n",
       "4261    brass_acoustic_003  brass_acoustic_003-069-100   \n",
       "6682    brass_acoustic_003  brass_acoustic_003-073-075   \n",
       "...                    ...                         ...   \n",
       "210184  brass_acoustic_003  brass_acoustic_003-074-050   \n",
       "213283  brass_acoustic_003  brass_acoustic_003-068-127   \n",
       "213670  brass_acoustic_003  brass_acoustic_003-059-050   \n",
       "214095  brass_acoustic_003  brass_acoustic_003-070-100   \n",
       "214262  brass_acoustic_003  brass_acoustic_003-067-100   \n",
       "\n",
       "                       qualities_str instrument_source_str  velocity  \\\n",
       "71            [long_release, reverb]              acoustic        75   \n",
       "3434                        [reverb]              acoustic        50   \n",
       "4135          [long_release, reverb]              acoustic        25   \n",
       "4261                        [reverb]              acoustic       100   \n",
       "6682          [long_release, reverb]              acoustic        75   \n",
       "...                              ...                   ...       ...   \n",
       "210184                      [reverb]              acoustic        50   \n",
       "213283                      [reverb]              acoustic       127   \n",
       "213670  [dark, long_release, reverb]              acoustic        50   \n",
       "214095        [long_release, reverb]              acoustic       100   \n",
       "214262        [long_release, reverb]              acoustic       100   \n",
       "\n",
       "        instrument_family  instrument                       qualities  stage  \\\n",
       "71                      1          16  [0, 0, 0, 0, 1, 0, 0, 0, 1, 0]  train   \n",
       "3434                    1          16  [0, 0, 0, 0, 0, 0, 0, 0, 1, 0]  train   \n",
       "4135                    1          16  [0, 0, 0, 0, 1, 0, 0, 0, 1, 0]  train   \n",
       "4261                    1          16  [0, 0, 0, 0, 0, 0, 0, 0, 1, 0]  train   \n",
       "6682                    1          16  [0, 0, 0, 0, 1, 0, 0, 0, 1, 0]  train   \n",
       "...                   ...         ...                             ...    ...   \n",
       "210184                  1          16  [0, 0, 0, 0, 0, 0, 0, 0, 1, 0]  train   \n",
       "213283                  1          16  [0, 0, 0, 0, 0, 0, 0, 0, 1, 0]  train   \n",
       "213670                  1          16  [0, 1, 0, 0, 1, 0, 0, 0, 1, 0]  train   \n",
       "214095                  1          16  [0, 0, 0, 0, 1, 0, 0, 0, 1, 0]  train   \n",
       "214262                  1          16  [0, 0, 0, 0, 1, 0, 0, 0, 1, 0]  train   \n",
       "\n",
       "        family_source_id                        file  \n",
       "71                     3  brass_acoustic_003-075-075  \n",
       "3434                   3  brass_acoustic_003-073-050  \n",
       "4135                   3  brass_acoustic_003-068-025  \n",
       "4261                   3  brass_acoustic_003-069-100  \n",
       "6682                   3  brass_acoustic_003-073-075  \n",
       "...                  ...                         ...  \n",
       "210184                 3  brass_acoustic_003-074-050  \n",
       "213283                 3  brass_acoustic_003-068-127  \n",
       "213670                 3  brass_acoustic_003-059-050  \n",
       "214095                 3  brass_acoustic_003-070-100  \n",
       "214262                 3  brass_acoustic_003-067-100  \n",
       "\n",
       "[185 rows x 16 columns]"
      ]
     },
     "execution_count": 20,
     "metadata": {},
     "output_type": "execute_result"
    }
   ],
   "source": [
    "bla[bla['instrument_str'] == 'brass_acoustic_003']"
   ]
  },
  {
   "cell_type": "code",
   "execution_count": 22,
   "metadata": {},
   "outputs": [
    {
     "data": {
      "text/html": [
       "<div>\n",
       "<style scoped>\n",
       "    .dataframe tbody tr th:only-of-type {\n",
       "        vertical-align: middle;\n",
       "    }\n",
       "\n",
       "    .dataframe tbody tr th {\n",
       "        vertical-align: top;\n",
       "    }\n",
       "\n",
       "    .dataframe thead th {\n",
       "        text-align: right;\n",
       "    }\n",
       "</style>\n",
       "<table border=\"1\" class=\"dataframe\">\n",
       "  <thead>\n",
       "    <tr style=\"text-align: right;\">\n",
       "      <th></th>\n",
       "      <th>note</th>\n",
       "      <th>sample_rate</th>\n",
       "      <th>pitch</th>\n",
       "      <th>instrument_source</th>\n",
       "      <th>instrument_family_str</th>\n",
       "      <th>instrument_str</th>\n",
       "      <th>note_str</th>\n",
       "      <th>qualities_str</th>\n",
       "      <th>instrument_source_str</th>\n",
       "      <th>velocity</th>\n",
       "      <th>instrument_family</th>\n",
       "      <th>instrument</th>\n",
       "      <th>qualities</th>\n",
       "      <th>stage</th>\n",
       "      <th>family_source_id</th>\n",
       "      <th>file</th>\n",
       "    </tr>\n",
       "  </thead>\n",
       "  <tbody>\n",
       "    <tr>\n",
       "      <th>277</th>\n",
       "      <td>34175</td>\n",
       "      <td>16000</td>\n",
       "      <td>51</td>\n",
       "      <td>0</td>\n",
       "      <td>brass</td>\n",
       "      <td>brass_acoustic_033</td>\n",
       "      <td>brass_acoustic_033-051-127</td>\n",
       "      <td>[long_release, reverb]</td>\n",
       "      <td>acoustic</td>\n",
       "      <td>127</td>\n",
       "      <td>1</td>\n",
       "      <td>245</td>\n",
       "      <td>[0, 0, 0, 0, 1, 0, 0, 0, 1, 0]</td>\n",
       "      <td>train</td>\n",
       "      <td>3</td>\n",
       "      <td>brass_acoustic_033-051-127</td>\n",
       "    </tr>\n",
       "    <tr>\n",
       "      <th>108517</th>\n",
       "      <td>40696</td>\n",
       "      <td>16000</td>\n",
       "      <td>51</td>\n",
       "      <td>0</td>\n",
       "      <td>brass</td>\n",
       "      <td>brass_acoustic_033</td>\n",
       "      <td>brass_acoustic_033-051-075</td>\n",
       "      <td>[dark, long_release, reverb]</td>\n",
       "      <td>acoustic</td>\n",
       "      <td>75</td>\n",
       "      <td>1</td>\n",
       "      <td>245</td>\n",
       "      <td>[0, 1, 0, 0, 1, 0, 0, 0, 1, 0]</td>\n",
       "      <td>train</td>\n",
       "      <td>3</td>\n",
       "      <td>brass_acoustic_033-051-075</td>\n",
       "    </tr>\n",
       "    <tr>\n",
       "      <th>176887</th>\n",
       "      <td>34123</td>\n",
       "      <td>16000</td>\n",
       "      <td>51</td>\n",
       "      <td>0</td>\n",
       "      <td>brass</td>\n",
       "      <td>brass_acoustic_033</td>\n",
       "      <td>brass_acoustic_033-051-025</td>\n",
       "      <td>[dark, reverb]</td>\n",
       "      <td>acoustic</td>\n",
       "      <td>25</td>\n",
       "      <td>1</td>\n",
       "      <td>245</td>\n",
       "      <td>[0, 1, 0, 0, 0, 0, 0, 0, 1, 0]</td>\n",
       "      <td>train</td>\n",
       "      <td>3</td>\n",
       "      <td>brass_acoustic_033-051-025</td>\n",
       "    </tr>\n",
       "    <tr>\n",
       "      <th>177329</th>\n",
       "      <td>77047</td>\n",
       "      <td>16000</td>\n",
       "      <td>51</td>\n",
       "      <td>0</td>\n",
       "      <td>brass</td>\n",
       "      <td>brass_acoustic_033</td>\n",
       "      <td>brass_acoustic_033-051-100</td>\n",
       "      <td>[long_release, reverb]</td>\n",
       "      <td>acoustic</td>\n",
       "      <td>100</td>\n",
       "      <td>1</td>\n",
       "      <td>245</td>\n",
       "      <td>[0, 0, 0, 0, 1, 0, 0, 0, 1, 0]</td>\n",
       "      <td>train</td>\n",
       "      <td>3</td>\n",
       "      <td>brass_acoustic_033-051-100</td>\n",
       "    </tr>\n",
       "    <tr>\n",
       "      <th>210578</th>\n",
       "      <td>6965</td>\n",
       "      <td>16000</td>\n",
       "      <td>51</td>\n",
       "      <td>0</td>\n",
       "      <td>brass</td>\n",
       "      <td>brass_acoustic_033</td>\n",
       "      <td>brass_acoustic_033-051-050</td>\n",
       "      <td>[dark, reverb]</td>\n",
       "      <td>acoustic</td>\n",
       "      <td>50</td>\n",
       "      <td>1</td>\n",
       "      <td>245</td>\n",
       "      <td>[0, 1, 0, 0, 0, 0, 0, 0, 1, 0]</td>\n",
       "      <td>train</td>\n",
       "      <td>3</td>\n",
       "      <td>brass_acoustic_033-051-050</td>\n",
       "    </tr>\n",
       "  </tbody>\n",
       "</table>\n",
       "</div>"
      ],
      "text/plain": [
       "         note  sample_rate  pitch  instrument_source instrument_family_str  \\\n",
       "277     34175        16000     51                  0                 brass   \n",
       "108517  40696        16000     51                  0                 brass   \n",
       "176887  34123        16000     51                  0                 brass   \n",
       "177329  77047        16000     51                  0                 brass   \n",
       "210578   6965        16000     51                  0                 brass   \n",
       "\n",
       "            instrument_str                    note_str  \\\n",
       "277     brass_acoustic_033  brass_acoustic_033-051-127   \n",
       "108517  brass_acoustic_033  brass_acoustic_033-051-075   \n",
       "176887  brass_acoustic_033  brass_acoustic_033-051-025   \n",
       "177329  brass_acoustic_033  brass_acoustic_033-051-100   \n",
       "210578  brass_acoustic_033  brass_acoustic_033-051-050   \n",
       "\n",
       "                       qualities_str instrument_source_str  velocity  \\\n",
       "277           [long_release, reverb]              acoustic       127   \n",
       "108517  [dark, long_release, reverb]              acoustic        75   \n",
       "176887                [dark, reverb]              acoustic        25   \n",
       "177329        [long_release, reverb]              acoustic       100   \n",
       "210578                [dark, reverb]              acoustic        50   \n",
       "\n",
       "        instrument_family  instrument                       qualities  stage  \\\n",
       "277                     1         245  [0, 0, 0, 0, 1, 0, 0, 0, 1, 0]  train   \n",
       "108517                  1         245  [0, 1, 0, 0, 1, 0, 0, 0, 1, 0]  train   \n",
       "176887                  1         245  [0, 1, 0, 0, 0, 0, 0, 0, 1, 0]  train   \n",
       "177329                  1         245  [0, 0, 0, 0, 1, 0, 0, 0, 1, 0]  train   \n",
       "210578                  1         245  [0, 1, 0, 0, 0, 0, 0, 0, 1, 0]  train   \n",
       "\n",
       "        family_source_id                        file  \n",
       "277                    3  brass_acoustic_033-051-127  \n",
       "108517                 3  brass_acoustic_033-051-075  \n",
       "176887                 3  brass_acoustic_033-051-025  \n",
       "177329                 3  brass_acoustic_033-051-100  \n",
       "210578                 3  brass_acoustic_033-051-050  "
      ]
     },
     "execution_count": 22,
     "metadata": {},
     "output_type": "execute_result"
    }
   ],
   "source": [
    "bla[(bla['instrument_str'] == 'brass_acoustic_033')&(bla['pitch'] == 51)]"
   ]
  },
  {
   "cell_type": "code",
   "execution_count": 6,
   "metadata": {},
   "outputs": [
    {
     "data": {
      "text/html": [
       "<div>\n",
       "<style scoped>\n",
       "    .dataframe tbody tr th:only-of-type {\n",
       "        vertical-align: middle;\n",
       "    }\n",
       "\n",
       "    .dataframe tbody tr th {\n",
       "        vertical-align: top;\n",
       "    }\n",
       "\n",
       "    .dataframe thead th {\n",
       "        text-align: right;\n",
       "    }\n",
       "</style>\n",
       "<table border=\"1\" class=\"dataframe\">\n",
       "  <thead>\n",
       "    <tr style=\"text-align: right;\">\n",
       "      <th></th>\n",
       "      <th>note</th>\n",
       "      <th>sample_rate</th>\n",
       "      <th>pitch</th>\n",
       "      <th>instrument_source</th>\n",
       "      <th>instrument_family_str</th>\n",
       "      <th>instrument_str</th>\n",
       "      <th>note_str</th>\n",
       "      <th>qualities_str</th>\n",
       "      <th>instrument_source_str</th>\n",
       "      <th>velocity</th>\n",
       "      <th>instrument_family</th>\n",
       "      <th>instrument</th>\n",
       "      <th>qualities</th>\n",
       "      <th>stage</th>\n",
       "      <th>family_source_id</th>\n",
       "      <th>file</th>\n",
       "    </tr>\n",
       "  </thead>\n",
       "  <tbody>\n",
       "    <tr>\n",
       "      <th>9099</th>\n",
       "      <td>40227</td>\n",
       "      <td>16000</td>\n",
       "      <td>51</td>\n",
       "      <td>0</td>\n",
       "      <td>brass</td>\n",
       "      <td>brass_acoustic_003</td>\n",
       "      <td>brass_acoustic_003-051-025</td>\n",
       "      <td>[dark, reverb]</td>\n",
       "      <td>acoustic</td>\n",
       "      <td>25</td>\n",
       "      <td>1</td>\n",
       "      <td>16</td>\n",
       "      <td>[0, 1, 0, 0, 0, 0, 0, 0, 1, 0]</td>\n",
       "      <td>train</td>\n",
       "      <td>3</td>\n",
       "      <td>brass_acoustic_003-051-025</td>\n",
       "    </tr>\n",
       "    <tr>\n",
       "      <th>50361</th>\n",
       "      <td>67600</td>\n",
       "      <td>16000</td>\n",
       "      <td>51</td>\n",
       "      <td>0</td>\n",
       "      <td>brass</td>\n",
       "      <td>brass_acoustic_003</td>\n",
       "      <td>brass_acoustic_003-051-075</td>\n",
       "      <td>[dark, long_release, reverb]</td>\n",
       "      <td>acoustic</td>\n",
       "      <td>75</td>\n",
       "      <td>1</td>\n",
       "      <td>16</td>\n",
       "      <td>[0, 1, 0, 0, 1, 0, 0, 0, 1, 0]</td>\n",
       "      <td>train</td>\n",
       "      <td>3</td>\n",
       "      <td>brass_acoustic_003-051-075</td>\n",
       "    </tr>\n",
       "    <tr>\n",
       "      <th>60542</th>\n",
       "      <td>76168</td>\n",
       "      <td>16000</td>\n",
       "      <td>51</td>\n",
       "      <td>0</td>\n",
       "      <td>brass</td>\n",
       "      <td>brass_acoustic_003</td>\n",
       "      <td>brass_acoustic_003-051-100</td>\n",
       "      <td>[dark, long_release, reverb]</td>\n",
       "      <td>acoustic</td>\n",
       "      <td>100</td>\n",
       "      <td>1</td>\n",
       "      <td>16</td>\n",
       "      <td>[0, 1, 0, 0, 1, 0, 0, 0, 1, 0]</td>\n",
       "      <td>train</td>\n",
       "      <td>3</td>\n",
       "      <td>brass_acoustic_003-051-100</td>\n",
       "    </tr>\n",
       "    <tr>\n",
       "      <th>83108</th>\n",
       "      <td>67664</td>\n",
       "      <td>16000</td>\n",
       "      <td>51</td>\n",
       "      <td>0</td>\n",
       "      <td>brass</td>\n",
       "      <td>brass_acoustic_003</td>\n",
       "      <td>brass_acoustic_003-051-050</td>\n",
       "      <td>[dark, reverb]</td>\n",
       "      <td>acoustic</td>\n",
       "      <td>50</td>\n",
       "      <td>1</td>\n",
       "      <td>16</td>\n",
       "      <td>[0, 1, 0, 0, 0, 0, 0, 0, 1, 0]</td>\n",
       "      <td>train</td>\n",
       "      <td>3</td>\n",
       "      <td>brass_acoustic_003-051-050</td>\n",
       "    </tr>\n",
       "    <tr>\n",
       "      <th>134831</th>\n",
       "      <td>4437</td>\n",
       "      <td>16000</td>\n",
       "      <td>51</td>\n",
       "      <td>0</td>\n",
       "      <td>brass</td>\n",
       "      <td>brass_acoustic_003</td>\n",
       "      <td>brass_acoustic_003-051-127</td>\n",
       "      <td>[long_release, reverb]</td>\n",
       "      <td>acoustic</td>\n",
       "      <td>127</td>\n",
       "      <td>1</td>\n",
       "      <td>16</td>\n",
       "      <td>[0, 0, 0, 0, 1, 0, 0, 0, 1, 0]</td>\n",
       "      <td>train</td>\n",
       "      <td>3</td>\n",
       "      <td>brass_acoustic_003-051-127</td>\n",
       "    </tr>\n",
       "  </tbody>\n",
       "</table>\n",
       "</div>"
      ],
      "text/plain": [
       "         note  sample_rate  pitch  instrument_source instrument_family_str  \\\n",
       "9099    40227        16000     51                  0                 brass   \n",
       "50361   67600        16000     51                  0                 brass   \n",
       "60542   76168        16000     51                  0                 brass   \n",
       "83108   67664        16000     51                  0                 brass   \n",
       "134831   4437        16000     51                  0                 brass   \n",
       "\n",
       "            instrument_str                    note_str  \\\n",
       "9099    brass_acoustic_003  brass_acoustic_003-051-025   \n",
       "50361   brass_acoustic_003  brass_acoustic_003-051-075   \n",
       "60542   brass_acoustic_003  brass_acoustic_003-051-100   \n",
       "83108   brass_acoustic_003  brass_acoustic_003-051-050   \n",
       "134831  brass_acoustic_003  brass_acoustic_003-051-127   \n",
       "\n",
       "                       qualities_str instrument_source_str  velocity  \\\n",
       "9099                  [dark, reverb]              acoustic        25   \n",
       "50361   [dark, long_release, reverb]              acoustic        75   \n",
       "60542   [dark, long_release, reverb]              acoustic       100   \n",
       "83108                 [dark, reverb]              acoustic        50   \n",
       "134831        [long_release, reverb]              acoustic       127   \n",
       "\n",
       "        instrument_family  instrument                       qualities  stage  \\\n",
       "9099                    1          16  [0, 1, 0, 0, 0, 0, 0, 0, 1, 0]  train   \n",
       "50361                   1          16  [0, 1, 0, 0, 1, 0, 0, 0, 1, 0]  train   \n",
       "60542                   1          16  [0, 1, 0, 0, 1, 0, 0, 0, 1, 0]  train   \n",
       "83108                   1          16  [0, 1, 0, 0, 0, 0, 0, 0, 1, 0]  train   \n",
       "134831                  1          16  [0, 0, 0, 0, 1, 0, 0, 0, 1, 0]  train   \n",
       "\n",
       "        family_source_id                        file  \n",
       "9099                   3  brass_acoustic_003-051-025  \n",
       "50361                  3  brass_acoustic_003-051-075  \n",
       "60542                  3  brass_acoustic_003-051-100  \n",
       "83108                  3  brass_acoustic_003-051-050  \n",
       "134831                 3  brass_acoustic_003-051-127  "
      ]
     },
     "execution_count": 6,
     "metadata": {},
     "output_type": "execute_result"
    }
   ],
   "source": [
    "bla[(bla['instrument_str'] == 'brass_acoustic_003')&(bla['pitch'] == 51)]"
   ]
  },
  {
   "cell_type": "code",
   "execution_count": 10,
   "metadata": {},
   "outputs": [
    {
     "name": "stdout",
     "output_type": "stream",
     "text": [
      "(28000, 16)\n"
     ]
    },
    {
     "data": {
      "text/plain": [
       "<matplotlib.axes._subplots.AxesSubplot at 0x7f5a5c7ebfd0>"
      ]
     },
     "execution_count": 10,
     "metadata": {},
     "output_type": "execute_result"
    },
    {
     "data": {
      "image/png": "[encoded data removed]",
      "text/plain": [
       "<Figure size 432x288 with 1 Axes>"
      ]
     },
     "metadata": {
      "needs_background": "light"
     },
     "output_type": "display_data"
    }
   ],
   "source": [
    "df_tmp = pd.DataFrame(columns=bla.columns)\n",
    "\n",
    "# Filling df with random sampling, each class has the same number of samples.\n",
    "for class_id in range(28):\n",
    "    sampled_df = bla[bla['family_source_id'] == class_id].sample(\n",
    "                                            1000, replace=True, random_state=1)\n",
    "    df_tmp = pd.concat([df_tmp, sampled_df], axis = 0)\n",
    "\n",
    "print(df_tmp.shape)\n",
    "df_tmp['family_source_id'].hist(bins=28)"
   ]
  },
  {
   "cell_type": "code",
   "execution_count": null,
   "metadata": {},
   "outputs": [],
   "source": []
  }
 ],
 "metadata": {
  "kernelspec": {
   "display_name": "pytorch",
   "language": "python",
   "name": "pytorch"
  },
  "language_info": {
   "codemirror_mode": {
    "name": "ipython",
    "version": 3
   },
   "file_extension": ".py",
   "mimetype": "text/x-python",
   "name": "python",
   "nbconvert_exporter": "python",
   "pygments_lexer": "ipython3",
   "version": "3.7.7"
  }
 },
 "nbformat": 4,
 "nbformat_minor": 4
}
