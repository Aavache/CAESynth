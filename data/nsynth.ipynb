{
 "cells": [
  {
   "cell_type": "markdown",
   "metadata": {},
   "source": [
    "# Nsynth dataset"
   ]
  },
  {
   "cell_type": "markdown",
   "metadata": {},
   "source": [
    "Reference: https://magenta.tensorflow.org/datasets/nsynth#format"
   ]
  },
  {
   "cell_type": "markdown",
   "metadata": {},
   "source": [
    "### Parsing the JSON metafiles to a DataFrame"
   ]
  },
  {
   "cell_type": "code",
   "execution_count": 1,
   "metadata": {},
   "outputs": [],
   "source": [
    "import pandas as pd\n",
    "import numpy as np\n",
    "import librosa\n",
    "import os\n",
    "import json\n",
    "\n",
    "import matplotlib.pyplot as plt\n",
    "%matplotlib inline"
   ]
  },
  {
   "cell_type": "code",
   "execution_count": 2,
   "metadata": {},
   "outputs": [],
   "source": [
    "# Creating path variables\n",
    "TRAIN_PATH = \"./nsynth/nsynth-train\" \n",
    "TEST_PATH = \"./test\" \n",
    "VALID_PATH = \"./valid\""
   ]
  },
  {
   "cell_type": "code",
   "execution_count": 3,
   "metadata": {},
   "outputs": [],
   "source": [
    "# Loading metadata from training, test and validation\n",
    "\n",
    "with open(os.path.join(TRAIN_PATH, \"examples.json\"), 'r') as f:\n",
    "    train_data = json.load(f)\n",
    "#with open(os.path.join(TEST_PATH, \"examples.json\"), 'r') as f:\n",
    "#    test_data = json.load(f)\n",
    "#with open(os.path.join(VALID_PATH, \"examples.json\"), 'r') as f:\n",
    "#    distros_dict = json.load(f)"
   ]
  },
  {
   "cell_type": "code",
   "execution_count": 4,
   "metadata": {},
   "outputs": [
    {
     "data": {
      "text/plain": [
       "'\\ndf_test = pd.read_json(os.path.join(TEST_PATH, \"examples.json\"), orient=\\'index\\')\\ndf_test[\\'file\\'] = df_test.index\\ndf_test.reset_index(drop=True, inplace=True)\\ndf_test[\"stage\"] = \"test\"\\n\\ndf_valid = pd.read_json(os.path.join(VALID_PATH, \"examples.json\"), orient=\\'index\\')\\ndf_valid[\\'file\\'] = df_valid.index\\ndf_valid.reset_index(drop=True, inplace=True)\\ndf_valid[\"stage\"] = \"valid\"\\n'"
      ]
     },
     "execution_count": 4,
     "metadata": {},
     "output_type": "execute_result"
    }
   ],
   "source": [
    "df_train = pd.read_json(os.path.join(TRAIN_PATH, \"examples.json\"), orient='index')\n",
    "df_train['file'] = df_train.index\n",
    "df_train.reset_index(drop=True, inplace=True)\n",
    "df_train[\"stage\"] = \"train\"\n",
    "'''\n",
    "df_test = pd.read_json(os.path.join(TEST_PATH, \"examples.json\"), orient='index')\n",
    "df_test['file'] = df_test.index\n",
    "df_test.reset_index(drop=True, inplace=True)\n",
    "df_test[\"stage\"] = \"test\"\n",
    "\n",
    "df_valid = pd.read_json(os.path.join(VALID_PATH, \"examples.json\"), orient='index')\n",
    "df_valid['file'] = df_valid.index\n",
    "df_valid.reset_index(drop=True, inplace=True)\n",
    "df_valid[\"stage\"] = \"valid\"\n",
    "'''"
   ]
  },
  {
   "cell_type": "code",
   "execution_count": 5,
   "metadata": {},
   "outputs": [
    {
     "data": {
      "text/html": [
       "<div>\n",
       "<style scoped>\n",
       "    .dataframe tbody tr th:only-of-type {\n",
       "        vertical-align: middle;\n",
       "    }\n",
       "\n",
       "    .dataframe tbody tr th {\n",
       "        vertical-align: top;\n",
       "    }\n",
       "\n",
       "    .dataframe thead th {\n",
       "        text-align: right;\n",
       "    }\n",
       "</style>\n",
       "<table border=\"1\" class=\"dataframe\">\n",
       "  <thead>\n",
       "    <tr style=\"text-align: right;\">\n",
       "      <th></th>\n",
       "      <th>note</th>\n",
       "      <th>sample_rate</th>\n",
       "      <th>pitch</th>\n",
       "      <th>instrument_source</th>\n",
       "      <th>instrument_family_str</th>\n",
       "      <th>instrument_str</th>\n",
       "      <th>note_str</th>\n",
       "      <th>qualities_str</th>\n",
       "      <th>instrument_source_str</th>\n",
       "      <th>velocity</th>\n",
       "      <th>instrument_family</th>\n",
       "      <th>instrument</th>\n",
       "      <th>qualities</th>\n",
       "      <th>file</th>\n",
       "    </tr>\n",
       "  </thead>\n",
       "  <tbody>\n",
       "    <tr>\n",
       "      <th>0</th>\n",
       "      <td>16629</td>\n",
       "      <td>16000</td>\n",
       "      <td>82</td>\n",
       "      <td>0</td>\n",
       "      <td>guitar</td>\n",
       "      <td>guitar_acoustic_001</td>\n",
       "      <td>guitar_acoustic_001-082-050</td>\n",
       "      <td>[percussive]</td>\n",
       "      <td>acoustic</td>\n",
       "      <td>50</td>\n",
       "      <td>3</td>\n",
       "      <td>39</td>\n",
       "      <td>[0, 0, 0, 0, 0, 0, 0, 1, 0, 0]</td>\n",
       "      <td>guitar_acoustic_001-082-050</td>\n",
       "    </tr>\n",
       "    <tr>\n",
       "      <th>1</th>\n",
       "      <td>168243</td>\n",
       "      <td>16000</td>\n",
       "      <td>108</td>\n",
       "      <td>2</td>\n",
       "      <td>bass</td>\n",
       "      <td>bass_synthetic_120</td>\n",
       "      <td>bass_synthetic_120-108-050</td>\n",
       "      <td>[percussive]</td>\n",
       "      <td>synthetic</td>\n",
       "      <td>50</td>\n",
       "      <td>0</td>\n",
       "      <td>881</td>\n",
       "      <td>[0, 0, 0, 0, 0, 0, 0, 1, 0, 0]</td>\n",
       "      <td>bass_synthetic_120-108-050</td>\n",
       "    </tr>\n",
       "    <tr>\n",
       "      <th>2</th>\n",
       "      <td>88495</td>\n",
       "      <td>16000</td>\n",
       "      <td>50</td>\n",
       "      <td>1</td>\n",
       "      <td>organ</td>\n",
       "      <td>organ_electronic_120</td>\n",
       "      <td>organ_electronic_120-050-127</td>\n",
       "      <td>[]</td>\n",
       "      <td>electronic</td>\n",
       "      <td>127</td>\n",
       "      <td>6</td>\n",
       "      <td>979</td>\n",
       "      <td>[0, 0, 0, 0, 0, 0, 0, 0, 0, 0]</td>\n",
       "      <td>organ_electronic_120-050-127</td>\n",
       "    </tr>\n",
       "    <tr>\n",
       "      <th>3</th>\n",
       "      <td>146382</td>\n",
       "      <td>16000</td>\n",
       "      <td>26</td>\n",
       "      <td>1</td>\n",
       "      <td>guitar</td>\n",
       "      <td>guitar_electronic_021</td>\n",
       "      <td>guitar_electronic_021-026-025</td>\n",
       "      <td>[fast_decay, percussive]</td>\n",
       "      <td>electronic</td>\n",
       "      <td>25</td>\n",
       "      <td>3</td>\n",
       "      <td>346</td>\n",
       "      <td>[0, 0, 0, 1, 0, 0, 0, 1, 0, 0]</td>\n",
       "      <td>guitar_electronic_021-026-025</td>\n",
       "    </tr>\n",
       "    <tr>\n",
       "      <th>4</th>\n",
       "      <td>244275</td>\n",
       "      <td>16000</td>\n",
       "      <td>79</td>\n",
       "      <td>1</td>\n",
       "      <td>organ</td>\n",
       "      <td>organ_electronic_011</td>\n",
       "      <td>organ_electronic_011-079-075</td>\n",
       "      <td>[bright]</td>\n",
       "      <td>electronic</td>\n",
       "      <td>75</td>\n",
       "      <td>6</td>\n",
       "      <td>188</td>\n",
       "      <td>[1, 0, 0, 0, 0, 0, 0, 0, 0, 0]</td>\n",
       "      <td>organ_electronic_011-079-075</td>\n",
       "    </tr>\n",
       "  </tbody>\n",
       "</table>\n",
       "</div>"
      ],
      "text/plain": [
       "     note  sample_rate  pitch  instrument_source instrument_family_str  \\\n",
       "0   16629        16000     82                  0                guitar   \n",
       "1  168243        16000    108                  2                  bass   \n",
       "2   88495        16000     50                  1                 organ   \n",
       "3  146382        16000     26                  1                guitar   \n",
       "4  244275        16000     79                  1                 organ   \n",
       "\n",
       "          instrument_str                       note_str  \\\n",
       "0    guitar_acoustic_001    guitar_acoustic_001-082-050   \n",
       "1     bass_synthetic_120     bass_synthetic_120-108-050   \n",
       "2   organ_electronic_120   organ_electronic_120-050-127   \n",
       "3  guitar_electronic_021  guitar_electronic_021-026-025   \n",
       "4   organ_electronic_011   organ_electronic_011-079-075   \n",
       "\n",
       "              qualities_str instrument_source_str  velocity  \\\n",
       "0              [percussive]              acoustic        50   \n",
       "1              [percussive]             synthetic        50   \n",
       "2                        []            electronic       127   \n",
       "3  [fast_decay, percussive]            electronic        25   \n",
       "4                  [bright]            electronic        75   \n",
       "\n",
       "   instrument_family  instrument                       qualities  \\\n",
       "0                  3          39  [0, 0, 0, 0, 0, 0, 0, 1, 0, 0]   \n",
       "1                  0         881  [0, 0, 0, 0, 0, 0, 0, 1, 0, 0]   \n",
       "2                  6         979  [0, 0, 0, 0, 0, 0, 0, 0, 0, 0]   \n",
       "3                  3         346  [0, 0, 0, 1, 0, 0, 0, 1, 0, 0]   \n",
       "4                  6         188  [1, 0, 0, 0, 0, 0, 0, 0, 0, 0]   \n",
       "\n",
       "                            file  \n",
       "0    guitar_acoustic_001-082-050  \n",
       "1     bass_synthetic_120-108-050  \n",
       "2   organ_electronic_120-050-127  \n",
       "3  guitar_electronic_021-026-025  \n",
       "4   organ_electronic_011-079-075  "
      ]
     },
     "execution_count": 5,
     "metadata": {},
     "output_type": "execute_result"
    }
   ],
   "source": [
    "df_train = pd.read_json(os.path.join(TRAIN_PATH, \"examples.json\"), orient='index')\n",
    "df_train['file'] = df_train.index\n",
    "df_train.reset_index(drop=True, inplace=True)\n",
    "df_train.head()"
   ]
  },
  {
   "cell_type": "code",
   "execution_count": 23,
   "metadata": {},
   "outputs": [],
   "source": [
    "df_inst = df_train[df_train['instrument'] == 39]"
   ]
  },
  {
   "cell_type": "code",
   "execution_count": 7,
   "metadata": {},
   "outputs": [],
   "source": [
    "file_1 = df_train[(df_train['instrument'] == 256)&(df_train['velocity'] == 100)]['file']\n",
    "file_2 = df_train[(df_train['pitch'] == 50)&(df_train['velocity'] == 75)]['file']\n",
    "file_3 = df_train[(df_train['pitch'] == 55)&(df_train['velocity'] == 50)]['file']"
   ]
  },
  {
   "cell_type": "code",
   "execution_count": 8,
   "metadata": {},
   "outputs": [
    {
     "data": {
      "text/plain": [
       "8380      reed_acoustic_026-047-100\n",
       "12163     reed_acoustic_026-023-100\n",
       "18036     reed_acoustic_026-022-100\n",
       "23019     reed_acoustic_026-032-100\n",
       "23577     reed_acoustic_026-036-100\n",
       "25210     reed_acoustic_026-029-100\n",
       "30565     reed_acoustic_026-042-100\n",
       "32389     reed_acoustic_026-030-100\n",
       "40992     reed_acoustic_026-041-100\n",
       "56788     reed_acoustic_026-046-100\n",
       "58555     reed_acoustic_026-037-100\n",
       "76596     reed_acoustic_026-045-100\n",
       "82475     reed_acoustic_026-039-100\n",
       "94036     reed_acoustic_026-024-100\n",
       "100597    reed_acoustic_026-021-100\n",
       "111000    reed_acoustic_026-026-100\n",
       "186796    reed_acoustic_026-040-100\n",
       "195891    reed_acoustic_026-043-100\n",
       "198343    reed_acoustic_026-038-100\n",
       "216498    reed_acoustic_026-031-100\n",
       "220328    reed_acoustic_026-035-100\n",
       "227455    reed_acoustic_026-048-100\n",
       "231229    reed_acoustic_026-033-100\n",
       "231846    reed_acoustic_026-028-100\n",
       "240502    reed_acoustic_026-027-100\n",
       "246130    reed_acoustic_026-025-100\n",
       "258917    reed_acoustic_026-044-100\n",
       "286711    reed_acoustic_026-034-100\n",
       "Name: file, dtype: object"
      ]
     },
     "execution_count": 8,
     "metadata": {},
     "output_type": "execute_result"
    }
   ],
   "source": [
    "file_1"
   ]
  },
  {
   "cell_type": "code",
   "execution_count": 26,
   "metadata": {},
   "outputs": [
    {
     "data": {
      "text/plain": [
       "55782    guitar_acoustic_001-050-075\n",
       "Name: file, dtype: object"
      ]
     },
     "execution_count": 26,
     "metadata": {},
     "output_type": "execute_result"
    }
   ],
   "source": [
    "file_2"
   ]
  },
  {
   "cell_type": "code",
   "execution_count": 27,
   "metadata": {},
   "outputs": [
    {
     "data": {
      "text/plain": [
       "107662    guitar_acoustic_001-055-050\n",
       "Name: file, dtype: object"
      ]
     },
     "execution_count": 27,
     "metadata": {},
     "output_type": "execute_result"
    }
   ],
   "source": [
    "file_3"
   ]
  },
  {
   "cell_type": "code",
   "execution_count": 18,
   "metadata": {},
   "outputs": [
    {
     "name": "stdout",
     "output_type": "stream",
     "text": [
      "[ 50 127  75 100  25]\n"
     ]
    }
   ],
   "source": [
    "df_intru = df_train[df_train['instrument'] == 39]\n",
    "print(df_intru['velocity'].unique())"
   ]
  },
  {
   "cell_type": "code",
   "execution_count": 6,
   "metadata": {},
   "outputs": [
    {
     "data": {
      "text/plain": [
       "<matplotlib.axes._subplots.AxesSubplot at 0x7f97a25a24d0>"
      ]
     },
     "execution_count": 6,
     "metadata": {},
     "output_type": "execute_result"
    },
    {
     "data": {
      "image/png": "[encoded data removed]",
      "text/plain": [
       "<Figure size 432x288 with 1 Axes>"
      ]
     },
     "metadata": {
      "needs_background": "light"
     },
     "output_type": "display_data"
    }
   ],
   "source": [
    "df_train = df_train[(df_train['pitch'] < 84)& ( df_train['pitch'] > 24)]\n",
    "df_train['pitch'].hist()"
   ]
  },
  {
   "cell_type": "markdown",
   "metadata": {},
   "source": [
    "Write file names into a separated txt file."
   ]
  },
  {
   "cell_type": "code",
   "execution_count": 9,
   "metadata": {},
   "outputs": [],
   "source": [
    "path = \"./data/nsynth/train/audio/\"\n",
    "with open(\"training_files.txt\", 'w') as f:\n",
    "    for file in list(df_train['file']):\n",
    "        f.write(path + file + \".wav\" + \"\\n\")"
   ]
  },
  {
   "cell_type": "code",
   "execution_count": 7,
   "metadata": {},
   "outputs": [
    {
     "ename": "NameError",
     "evalue": "name 'df_train' is not defined",
     "output_type": "error",
     "traceback": [
      "\u001b[0;31m---------------------------------------------------------------------------\u001b[0m",
      "\u001b[0;31mNameError\u001b[0m                                 Traceback (most recent call last)",
      "\u001b[0;32m<ipython-input-7-9949772a8538>\u001b[0m in \u001b[0;36m<module>\u001b[0;34m\u001b[0m\n\u001b[0;32m----> 1\u001b[0;31m \u001b[0mdf\u001b[0m \u001b[0;34m=\u001b[0m \u001b[0mpd\u001b[0m\u001b[0;34m.\u001b[0m\u001b[0mconcat\u001b[0m\u001b[0;34m(\u001b[0m\u001b[0;34m[\u001b[0m\u001b[0mdf_train\u001b[0m \u001b[0;34m,\u001b[0m\u001b[0mdf_test\u001b[0m\u001b[0;34m,\u001b[0m \u001b[0mdf_valid\u001b[0m\u001b[0;34m]\u001b[0m\u001b[0;34m)\u001b[0m\u001b[0;34m\u001b[0m\u001b[0;34m\u001b[0m\u001b[0m\n\u001b[0m\u001b[1;32m      2\u001b[0m \u001b[0;32massert\u001b[0m \u001b[0mlen\u001b[0m\u001b[0;34m(\u001b[0m\u001b[0mdf\u001b[0m\u001b[0;34m)\u001b[0m \u001b[0;34m==\u001b[0m \u001b[0mlen\u001b[0m\u001b[0;34m(\u001b[0m\u001b[0mdf_train\u001b[0m\u001b[0;34m)\u001b[0m \u001b[0;34m+\u001b[0m \u001b[0mlen\u001b[0m\u001b[0;34m(\u001b[0m\u001b[0mdf_test\u001b[0m\u001b[0;34m)\u001b[0m \u001b[0;34m+\u001b[0m \u001b[0mlen\u001b[0m\u001b[0;34m(\u001b[0m\u001b[0mdf_valid\u001b[0m\u001b[0;34m)\u001b[0m\u001b[0;34m\u001b[0m\u001b[0;34m\u001b[0m\u001b[0m\n",
      "\u001b[0;31mNameError\u001b[0m: name 'df_train' is not defined"
     ]
    }
   ],
   "source": [
    "df = pd.concat([df_train ,df_test, df_valid])\n",
    "assert len(df) == len(df_train) + len(df_test) + len(df_valid)"
   ]
  },
  {
   "cell_type": "code",
   "execution_count": null,
   "metadata": {},
   "outputs": [],
   "source": [
    "df.to_csv(\"examples.csv\", index=False)"
   ]
  },
  {
   "cell_type": "markdown",
   "metadata": {},
   "source": [
    "# GANSynth"
   ]
  },
  {
   "cell_type": "code",
   "execution_count": null,
   "metadata": {},
   "outputs": [],
   "source": [
    "df_train['instrument_family_str'].unique()"
   ]
  },
  {
   "cell_type": "code",
   "execution_count": null,
   "metadata": {},
   "outputs": [],
   "source": [
    "instr = ['mallet','string','brass','reed', 'flute']\n",
    "gan_synth_df = df_train[df_train['instrument_family_str'].isin(instr)]"
   ]
  },
  {
   "cell_type": "code",
   "execution_count": 35,
   "metadata": {},
   "outputs": [
    {
     "data": {
      "text/plain": [
       "352"
      ]
     },
     "execution_count": 35,
     "metadata": {},
     "output_type": "execute_result"
    }
   ],
   "source": [
    "len(gan_synth_df['instrument'].unique())"
   ]
  },
  {
   "cell_type": "code",
   "execution_count": 1,
   "metadata": {},
   "outputs": [
    {
     "data": {
      "text/plain": [
       "1025"
      ]
     },
     "execution_count": 1,
     "metadata": {},
     "output_type": "execute_result"
    }
   ],
   "source": []
  },
  {
   "cell_type": "code",
   "execution_count": null,
   "metadata": {},
   "outputs": [],
   "source": []
  }
 ],
 "metadata": {
  "kernelspec": {
   "display_name": "Python 3.6.10 64-bit ('pytorch': conda)",
   "language": "python",
   "name": "python361064bitpytorchconda996a6b8e65e74bbaa1e88401dd04573d"
  },
  "language_info": {
   "codemirror_mode": {
    "name": "ipython",
    "version": 3
   },
   "file_extension": ".py",
   "mimetype": "text/x-python",
   "name": "python",
   "nbconvert_exporter": "python",
   "pygments_lexer": "ipython3",
   "version": "3.7.7"
  }
 },
 "nbformat": 4,
 "nbformat_minor": 4
}
